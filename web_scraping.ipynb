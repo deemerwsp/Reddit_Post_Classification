{
 "cells": [
  {
   "cell_type": "code",
   "execution_count": 1,
   "id": "f856631b",
   "metadata": {
    "ExecuteTime": {
     "end_time": "2022-06-02T22:56:19.509499Z",
     "start_time": "2022-06-02T22:56:18.431691Z"
    }
   },
   "outputs": [],
   "source": [
    "import praw\n",
    "import csv\n",
    "import pandas as pd\n",
    "from datetime import datetime"
   ]
  },
  {
   "cell_type": "code",
   "execution_count": 2,
   "id": "220eff14",
   "metadata": {
    "ExecuteTime": {
     "end_time": "2022-06-02T22:56:19.604068Z",
     "start_time": "2022-06-02T22:56:19.510651Z"
    }
   },
   "outputs": [
    {
     "name": "stderr",
     "output_type": "stream",
     "text": [
      "Version 7.5.0 of praw is outdated. Version 7.6.0 was released Tuesday May 10, 2022.\n"
     ]
    }
   ],
   "source": [
    "reddit = praw.Reddit(\n",
    "    client_id=\"JQhmi-WQyqh7KYX00Fg4oQ\",\n",
    "    client_secret=\"jGnLY5fk3FzfDfCGVEOVg4c2E1vbLw\", \n",
    "    user_agent=\"prawtutorial\")"
   ]
  },
  {
   "cell_type": "code",
   "execution_count": 3,
   "id": "d993f2ba",
   "metadata": {
    "ExecuteTime": {
     "end_time": "2022-06-02T22:56:19.607564Z",
     "start_time": "2022-06-02T22:56:19.605179Z"
    }
   },
   "outputs": [],
   "source": [
    "reddit = reddit.subreddit(\"all\").hot(limit=1500)"
   ]
  },
  {
   "cell_type": "code",
   "execution_count": 4,
   "id": "f235d918",
   "metadata": {
    "ExecuteTime": {
     "end_time": "2022-06-02T22:56:19.610599Z",
     "start_time": "2022-06-02T22:56:19.608869Z"
    }
   },
   "outputs": [],
   "source": [
    "# for submission in reddit:\n",
    "#     print(submission.ups, submission.upvote, submission.upvote_ratio)"
   ]
  },
  {
   "cell_type": "code",
   "execution_count": 5,
   "id": "95745a7a",
   "metadata": {
    "ExecuteTime": {
     "end_time": "2022-06-02T22:56:19.614156Z",
     "start_time": "2022-06-02T22:56:19.612674Z"
    },
    "scrolled": false
   },
   "outputs": [],
   "source": [
    "# for submission in reddit:\n",
    "#     for i in dir(submission):\n",
    "#         print(i)"
   ]
  },
  {
   "cell_type": "code",
   "execution_count": 6,
   "id": "5e774ceb",
   "metadata": {
    "ExecuteTime": {
     "end_time": "2022-06-02T22:56:19.618710Z",
     "start_time": "2022-06-02T22:56:19.615238Z"
    }
   },
   "outputs": [],
   "source": [
    "title = []\n",
    "num_comments = []\n",
    "subreddit = []\n",
    "length_time_seconds = []         \n",
    "length_time_days = []\n",
    "author = []\n",
    "created_utc = []\n",
    "author_premium = []\n",
    "created_utc = []\n",
    "distinguished = []\n",
    "Id = []\n",
    "id_from_url = []\n",
    "is_original_content = []\n",
    "is_self = []\n",
    "is_video = []\n",
    "link_flair_text  = []\n",
    "num_crossposts = []\n",
    "over_18 = []\n",
    "score = []\n",
    "shortlink  = []\n",
    "spoiler = []\n",
    "stickied = []\n",
    "subreddit_subscribers = []\n",
    "subreddit_type = []\n",
    "total_awards_received = []\n",
    "upvote_ratio = []\n",
    "whitelist_status = []\n",
    "locked = []\n",
    "permalink = []\n",
    "selftext = []\n",
    "url = []"
   ]
  },
  {
   "cell_type": "code",
   "execution_count": 7,
   "id": "de91876e",
   "metadata": {
    "ExecuteTime": {
     "end_time": "2022-06-02T22:56:48.589045Z",
     "start_time": "2022-06-02T22:56:19.619789Z"
    },
    "scrolled": true
   },
   "outputs": [],
   "source": [
    "for submission in reddit:\n",
    "    \n",
    "    title.append(submission.title)\n",
    "    num_comments.append(submission.num_comments)\n",
    "    subreddit.append(submission.subreddit)\n",
    "    time_length = datetime.utcnow() - datetime.utcfromtimestamp(submission.created_utc)\n",
    "    length_time_days.append(time_length.days)\n",
    "    length_time_seconds.append(time_length.seconds)\n",
    "    created_utc.append(submission.created_utc)\n",
    "    distinguished.append(submission.distinguished)\n",
    "    Id.append(submission.id)\n",
    "    id_from_url.append(submission.id_from_url)\n",
    "    is_original_content.append(submission.is_original_content)\n",
    "    is_self.append(submission.is_self)\n",
    "    is_video.append(submission.is_video)\n",
    "    link_flair_text.append(submission.link_flair_text)\n",
    "    num_crossposts.append(submission.num_crossposts)\n",
    "    over_18.append(submission.over_18)\n",
    "    score.append(submission.score)\n",
    "    shortlink.append(submission.shortlink)\n",
    "    spoiler.append(submission.spoiler)\n",
    "    stickied.append(submission.stickied)\n",
    "    subreddit_subscribers.append(submission.subreddit_subscribers)\n",
    "    subreddit_type.append(submission.subreddit_type)\n",
    "    total_awards_received.append(submission.total_awards_received)\n",
    "    upvote_ratio.append(submission.upvote_ratio)\n",
    "    whitelist_status.append(submission.whitelist_status)\n",
    "    locked.append(submission.locked)\n",
    "    permalink.append(submission.permalink)\n",
    "    selftext.append(submission.selftext)\n",
    "    url.append(submission.url)"
   ]
  },
  {
   "cell_type": "code",
   "execution_count": 8,
   "id": "8efb2df4",
   "metadata": {
    "ExecuteTime": {
     "end_time": "2022-06-02T22:56:48.611787Z",
     "start_time": "2022-06-02T22:56:48.590776Z"
    }
   },
   "outputs": [],
   "source": [
    "df = pd.DataFrame(dict(title=title, \n",
    "                       num_comments=num_comments, \n",
    "                       subreddit=subreddit, \n",
    "                       length_time_seconds=length_time_seconds, \n",
    "                       length_time_days=length_time_days, \n",
    "                       created_utc=created_utc, \n",
    "                       distinguished=distinguished, \n",
    "                       Id=Id, \n",
    "                       id_from_url=id_from_url, \n",
    "                       is_original_content=is_original_content, \n",
    "                       is_self=is_self, \n",
    "                       is_video=is_video, \n",
    "                       link_flair_text=link_flair_text, \n",
    "                       num_crossposts=num_crossposts, \n",
    "                       over_18=over_18, \n",
    "                       score=score, \n",
    "                       shortlink=shortlink, \n",
    "                       spoiler=spoiler, \n",
    "                       stickied=stickied, \n",
    "                       subreddit_subscribers=subreddit_subscribers, \n",
    "                       subreddit_type=subreddit_type, \n",
    "                       total_awards_received=total_awards_received, \n",
    "                       upvote_ratio=upvote_ratio, \n",
    "                       whitelist_status=whitelist_status, \n",
    "                       locked=locked, \n",
    "                       permalink=permalink, \n",
    "                       selftext=selftext, \n",
    "                       url=url\n",
    "                      )\n",
    "                 )"
   ]
  },
  {
   "cell_type": "code",
   "execution_count": 9,
   "id": "28429241",
   "metadata": {
    "ExecuteTime": {
     "end_time": "2022-06-02T22:56:48.619329Z",
     "start_time": "2022-06-02T22:56:48.612830Z"
    }
   },
   "outputs": [
    {
     "data": {
      "text/plain": [
       "(1500, 28)"
      ]
     },
     "execution_count": 9,
     "metadata": {},
     "output_type": "execute_result"
    }
   ],
   "source": [
    "df.shape"
   ]
  },
  {
   "cell_type": "code",
   "execution_count": 10,
   "id": "cf3f5b3d",
   "metadata": {
    "ExecuteTime": {
     "end_time": "2022-06-02T22:56:48.638105Z",
     "start_time": "2022-06-02T22:56:48.620295Z"
    }
   },
   "outputs": [
    {
     "data": {
      "text/html": [
       "<div>\n",
       "<style scoped>\n",
       "    .dataframe tbody tr th:only-of-type {\n",
       "        vertical-align: middle;\n",
       "    }\n",
       "\n",
       "    .dataframe tbody tr th {\n",
       "        vertical-align: top;\n",
       "    }\n",
       "\n",
       "    .dataframe thead th {\n",
       "        text-align: right;\n",
       "    }\n",
       "</style>\n",
       "<table border=\"1\" class=\"dataframe\">\n",
       "  <thead>\n",
       "    <tr style=\"text-align: right;\">\n",
       "      <th></th>\n",
       "      <th>title</th>\n",
       "      <th>num_comments</th>\n",
       "      <th>subreddit</th>\n",
       "      <th>length_time_seconds</th>\n",
       "      <th>length_time_days</th>\n",
       "      <th>created_utc</th>\n",
       "      <th>distinguished</th>\n",
       "      <th>Id</th>\n",
       "      <th>id_from_url</th>\n",
       "      <th>is_original_content</th>\n",
       "      <th>...</th>\n",
       "      <th>stickied</th>\n",
       "      <th>subreddit_subscribers</th>\n",
       "      <th>subreddit_type</th>\n",
       "      <th>total_awards_received</th>\n",
       "      <th>upvote_ratio</th>\n",
       "      <th>whitelist_status</th>\n",
       "      <th>locked</th>\n",
       "      <th>permalink</th>\n",
       "      <th>selftext</th>\n",
       "      <th>url</th>\n",
       "    </tr>\n",
       "  </thead>\n",
       "  <tbody>\n",
       "    <tr>\n",
       "      <th>0</th>\n",
       "      <td>CNN reporter threatened with trespassing after...</td>\n",
       "      <td>999</td>\n",
       "      <td>news</td>\n",
       "      <td>13162</td>\n",
       "      <td>0</td>\n",
       "      <td>1.654197e+09</td>\n",
       "      <td>None</td>\n",
       "      <td>v3gj7j</td>\n",
       "      <td>&lt;function Submission.id_from_url at 0x7ff321b9...</td>\n",
       "      <td>False</td>\n",
       "      <td>...</td>\n",
       "      <td>False</td>\n",
       "      <td>24750545</td>\n",
       "      <td>public</td>\n",
       "      <td>3</td>\n",
       "      <td>0.97</td>\n",
       "      <td>all_ads</td>\n",
       "      <td>False</td>\n",
       "      <td>/r/news/comments/v3gj7j/cnn_reporter_threatene...</td>\n",
       "      <td></td>\n",
       "      <td>https://www.independent.co.uk/news/world/ameri...</td>\n",
       "    </tr>\n",
       "    <tr>\n",
       "      <th>1</th>\n",
       "      <td>Enemy Showed Hand</td>\n",
       "      <td>592</td>\n",
       "      <td>Superstonk</td>\n",
       "      <td>16720</td>\n",
       "      <td>0</td>\n",
       "      <td>1.654194e+09</td>\n",
       "      <td>None</td>\n",
       "      <td>v3f83p</td>\n",
       "      <td>&lt;function Submission.id_from_url at 0x7ff321b9...</td>\n",
       "      <td>False</td>\n",
       "      <td>...</td>\n",
       "      <td>False</td>\n",
       "      <td>790062</td>\n",
       "      <td>public</td>\n",
       "      <td>98</td>\n",
       "      <td>0.93</td>\n",
       "      <td>all_ads</td>\n",
       "      <td>False</td>\n",
       "      <td>/r/Superstonk/comments/v3f83p/enemy_showed_hand/</td>\n",
       "      <td></td>\n",
       "      <td>https://i.redd.it/kgf6tzc429391.jpg</td>\n",
       "    </tr>\n",
       "    <tr>\n",
       "      <th>2</th>\n",
       "      <td>weeeeeeeeeee</td>\n",
       "      <td>348</td>\n",
       "      <td>funny</td>\n",
       "      <td>19496</td>\n",
       "      <td>0</td>\n",
       "      <td>1.654191e+09</td>\n",
       "      <td>None</td>\n",
       "      <td>v3e787</td>\n",
       "      <td>&lt;function Submission.id_from_url at 0x7ff321b9...</td>\n",
       "      <td>False</td>\n",
       "      <td>...</td>\n",
       "      <td>False</td>\n",
       "      <td>40919745</td>\n",
       "      <td>public</td>\n",
       "      <td>25</td>\n",
       "      <td>0.92</td>\n",
       "      <td>all_ads</td>\n",
       "      <td>False</td>\n",
       "      <td>/r/funny/comments/v3e787/weeeeeeeeeee/</td>\n",
       "      <td></td>\n",
       "      <td>https://v.redd.it/7t9s30wut8391</td>\n",
       "    </tr>\n",
       "    <tr>\n",
       "      <th>3</th>\n",
       "      <td>Pizza, Pizza 🍕🍕</td>\n",
       "      <td>1220</td>\n",
       "      <td>Damnthatsinteresting</td>\n",
       "      <td>20761</td>\n",
       "      <td>0</td>\n",
       "      <td>1.654190e+09</td>\n",
       "      <td>None</td>\n",
       "      <td>v3dq31</td>\n",
       "      <td>&lt;function Submission.id_from_url at 0x7ff321b9...</td>\n",
       "      <td>False</td>\n",
       "      <td>...</td>\n",
       "      <td>False</td>\n",
       "      <td>5123594</td>\n",
       "      <td>public</td>\n",
       "      <td>12</td>\n",
       "      <td>0.92</td>\n",
       "      <td>all_ads</td>\n",
       "      <td>False</td>\n",
       "      <td>/r/Damnthatsinteresting/comments/v3dq31/pizza_...</td>\n",
       "      <td></td>\n",
       "      <td>https://i.redd.it/jc1d7ls3q8391.jpg</td>\n",
       "    </tr>\n",
       "    <tr>\n",
       "      <th>4</th>\n",
       "      <td>The first core memory being made.</td>\n",
       "      <td>118</td>\n",
       "      <td>Unexpected</td>\n",
       "      <td>17325</td>\n",
       "      <td>0</td>\n",
       "      <td>1.654193e+09</td>\n",
       "      <td>None</td>\n",
       "      <td>v3f06d</td>\n",
       "      <td>&lt;function Submission.id_from_url at 0x7ff321b9...</td>\n",
       "      <td>False</td>\n",
       "      <td>...</td>\n",
       "      <td>False</td>\n",
       "      <td>6334284</td>\n",
       "      <td>public</td>\n",
       "      <td>5</td>\n",
       "      <td>0.95</td>\n",
       "      <td>all_ads</td>\n",
       "      <td>False</td>\n",
       "      <td>/r/Unexpected/comments/v3f06d/the_first_core_m...</td>\n",
       "      <td></td>\n",
       "      <td>https://v.redd.it/msc3dlab09391</td>\n",
       "    </tr>\n",
       "  </tbody>\n",
       "</table>\n",
       "<p>5 rows × 28 columns</p>\n",
       "</div>"
      ],
      "text/plain": [
       "                                               title  num_comments  \\\n",
       "0  CNN reporter threatened with trespassing after...           999   \n",
       "1                                  Enemy Showed Hand           592   \n",
       "2                                       weeeeeeeeeee           348   \n",
       "3                                    Pizza, Pizza 🍕🍕          1220   \n",
       "4                  The first core memory being made.           118   \n",
       "\n",
       "              subreddit  length_time_seconds  length_time_days   created_utc  \\\n",
       "0                  news                13162                 0  1.654197e+09   \n",
       "1            Superstonk                16720                 0  1.654194e+09   \n",
       "2                 funny                19496                 0  1.654191e+09   \n",
       "3  Damnthatsinteresting                20761                 0  1.654190e+09   \n",
       "4            Unexpected                17325                 0  1.654193e+09   \n",
       "\n",
       "  distinguished      Id                                        id_from_url  \\\n",
       "0          None  v3gj7j  <function Submission.id_from_url at 0x7ff321b9...   \n",
       "1          None  v3f83p  <function Submission.id_from_url at 0x7ff321b9...   \n",
       "2          None  v3e787  <function Submission.id_from_url at 0x7ff321b9...   \n",
       "3          None  v3dq31  <function Submission.id_from_url at 0x7ff321b9...   \n",
       "4          None  v3f06d  <function Submission.id_from_url at 0x7ff321b9...   \n",
       "\n",
       "   is_original_content  ...  stickied  subreddit_subscribers subreddit_type  \\\n",
       "0                False  ...     False               24750545         public   \n",
       "1                False  ...     False                 790062         public   \n",
       "2                False  ...     False               40919745         public   \n",
       "3                False  ...     False                5123594         public   \n",
       "4                False  ...     False                6334284         public   \n",
       "\n",
       "   total_awards_received  upvote_ratio  whitelist_status locked  \\\n",
       "0                      3          0.97           all_ads  False   \n",
       "1                     98          0.93           all_ads  False   \n",
       "2                     25          0.92           all_ads  False   \n",
       "3                     12          0.92           all_ads  False   \n",
       "4                      5          0.95           all_ads  False   \n",
       "\n",
       "                                           permalink  selftext  \\\n",
       "0  /r/news/comments/v3gj7j/cnn_reporter_threatene...             \n",
       "1   /r/Superstonk/comments/v3f83p/enemy_showed_hand/             \n",
       "2             /r/funny/comments/v3e787/weeeeeeeeeee/             \n",
       "3  /r/Damnthatsinteresting/comments/v3dq31/pizza_...             \n",
       "4  /r/Unexpected/comments/v3f06d/the_first_core_m...             \n",
       "\n",
       "                                                 url  \n",
       "0  https://www.independent.co.uk/news/world/ameri...  \n",
       "1                https://i.redd.it/kgf6tzc429391.jpg  \n",
       "2                    https://v.redd.it/7t9s30wut8391  \n",
       "3                https://i.redd.it/jc1d7ls3q8391.jpg  \n",
       "4                    https://v.redd.it/msc3dlab09391  \n",
       "\n",
       "[5 rows x 28 columns]"
      ]
     },
     "execution_count": 10,
     "metadata": {},
     "output_type": "execute_result"
    }
   ],
   "source": [
    "df.head()"
   ]
  },
  {
   "cell_type": "code",
   "execution_count": 11,
   "id": "5fae0261",
   "metadata": {
    "ExecuteTime": {
     "end_time": "2022-06-02T22:56:48.642073Z",
     "start_time": "2022-06-02T22:56:48.639094Z"
    }
   },
   "outputs": [
    {
     "data": {
      "text/plain": [
       "1472"
      ]
     },
     "execution_count": 11,
     "metadata": {},
     "output_type": "execute_result"
    }
   ],
   "source": [
    "df.title.nunique()"
   ]
  },
  {
   "cell_type": "code",
   "execution_count": 12,
   "id": "d09b5baf",
   "metadata": {
    "ExecuteTime": {
     "end_time": "2022-06-02T22:56:48.653939Z",
     "start_time": "2022-06-02T22:56:48.642926Z"
    }
   },
   "outputs": [
    {
     "data": {
      "text/html": [
       "<div>\n",
       "<style scoped>\n",
       "    .dataframe tbody tr th:only-of-type {\n",
       "        vertical-align: middle;\n",
       "    }\n",
       "\n",
       "    .dataframe tbody tr th {\n",
       "        vertical-align: top;\n",
       "    }\n",
       "\n",
       "    .dataframe thead th {\n",
       "        text-align: right;\n",
       "    }\n",
       "</style>\n",
       "<table border=\"1\" class=\"dataframe\">\n",
       "  <thead>\n",
       "    <tr style=\"text-align: right;\">\n",
       "      <th></th>\n",
       "      <th>title</th>\n",
       "      <th>num_comments</th>\n",
       "      <th>subreddit</th>\n",
       "      <th>length_time_seconds</th>\n",
       "      <th>length_time_days</th>\n",
       "      <th>created_utc</th>\n",
       "      <th>distinguished</th>\n",
       "      <th>Id</th>\n",
       "      <th>id_from_url</th>\n",
       "      <th>is_original_content</th>\n",
       "      <th>...</th>\n",
       "      <th>stickied</th>\n",
       "      <th>subreddit_subscribers</th>\n",
       "      <th>subreddit_type</th>\n",
       "      <th>total_awards_received</th>\n",
       "      <th>upvote_ratio</th>\n",
       "      <th>whitelist_status</th>\n",
       "      <th>locked</th>\n",
       "      <th>permalink</th>\n",
       "      <th>selftext</th>\n",
       "      <th>url</th>\n",
       "    </tr>\n",
       "  </thead>\n",
       "  <tbody>\n",
       "    <tr>\n",
       "      <th>1495</th>\n",
       "      <td>Welcome to the internet fam 2.0</td>\n",
       "      <td>24</td>\n",
       "      <td>goodmythicalmorning</td>\n",
       "      <td>37959</td>\n",
       "      <td>0</td>\n",
       "      <td>1.654173e+09</td>\n",
       "      <td>None</td>\n",
       "      <td>v37ov1</td>\n",
       "      <td>&lt;function Submission.id_from_url at 0x7ff321b9...</td>\n",
       "      <td>False</td>\n",
       "      <td>...</td>\n",
       "      <td>False</td>\n",
       "      <td>66932</td>\n",
       "      <td>public</td>\n",
       "      <td>2</td>\n",
       "      <td>0.98</td>\n",
       "      <td>all_ads</td>\n",
       "      <td>False</td>\n",
       "      <td>/r/goodmythicalmorning/comments/v37ov1/welcome...</td>\n",
       "      <td></td>\n",
       "      <td>https://i.redd.it/zl2el8uya7391.gif</td>\n",
       "    </tr>\n",
       "    <tr>\n",
       "      <th>1496</th>\n",
       "      <td>Street Fighter 6 - State of Play June 2022 Ann...</td>\n",
       "      <td>127</td>\n",
       "      <td>StreetFighter</td>\n",
       "      <td>2069</td>\n",
       "      <td>0</td>\n",
       "      <td>1.654209e+09</td>\n",
       "      <td>None</td>\n",
       "      <td>v3kk4h</td>\n",
       "      <td>&lt;function Submission.id_from_url at 0x7ff321b9...</td>\n",
       "      <td>False</td>\n",
       "      <td>...</td>\n",
       "      <td>False</td>\n",
       "      <td>150163</td>\n",
       "      <td>public</td>\n",
       "      <td>0</td>\n",
       "      <td>0.99</td>\n",
       "      <td>all_ads</td>\n",
       "      <td>False</td>\n",
       "      <td>/r/StreetFighter/comments/v3kk4h/street_fighte...</td>\n",
       "      <td></td>\n",
       "      <td>https://youtu.be/OU3nLXXrHdM</td>\n",
       "    </tr>\n",
       "    <tr>\n",
       "      <th>1497</th>\n",
       "      <td>Basically I was hunting the legendary White Bi...</td>\n",
       "      <td>77</td>\n",
       "      <td>RDR2</td>\n",
       "      <td>24852</td>\n",
       "      <td>0</td>\n",
       "      <td>1.654186e+09</td>\n",
       "      <td>None</td>\n",
       "      <td>v3c7d5</td>\n",
       "      <td>&lt;function Submission.id_from_url at 0x7ff321b9...</td>\n",
       "      <td>False</td>\n",
       "      <td>...</td>\n",
       "      <td>False</td>\n",
       "      <td>206212</td>\n",
       "      <td>public</td>\n",
       "      <td>0</td>\n",
       "      <td>0.98</td>\n",
       "      <td>all_ads</td>\n",
       "      <td>False</td>\n",
       "      <td>/r/RDR2/comments/v3c7d5/basically_i_was_huntin...</td>\n",
       "      <td></td>\n",
       "      <td>https://i.redd.it/qxeouen0e8391.jpg</td>\n",
       "    </tr>\n",
       "    <tr>\n",
       "      <th>1498</th>\n",
       "      <td>Hope everybody in the UK is having fun celebra...</td>\n",
       "      <td>21</td>\n",
       "      <td>rupaulsdragrace</td>\n",
       "      <td>25714</td>\n",
       "      <td>0</td>\n",
       "      <td>1.654185e+09</td>\n",
       "      <td>None</td>\n",
       "      <td>v3bvlc</td>\n",
       "      <td>&lt;function Submission.id_from_url at 0x7ff321b9...</td>\n",
       "      <td>False</td>\n",
       "      <td>...</td>\n",
       "      <td>False</td>\n",
       "      <td>490984</td>\n",
       "      <td>public</td>\n",
       "      <td>0</td>\n",
       "      <td>0.98</td>\n",
       "      <td>all_ads</td>\n",
       "      <td>False</td>\n",
       "      <td>/r/rupaulsdragrace/comments/v3bvlc/hope_everyb...</td>\n",
       "      <td></td>\n",
       "      <td>https://i.redd.it/s25v10zfb8391.jpg</td>\n",
       "    </tr>\n",
       "    <tr>\n",
       "      <th>1499</th>\n",
       "      <td>everyday is the same</td>\n",
       "      <td>16</td>\n",
       "      <td>florida</td>\n",
       "      <td>23447</td>\n",
       "      <td>0</td>\n",
       "      <td>1.654187e+09</td>\n",
       "      <td>None</td>\n",
       "      <td>v3cqig</td>\n",
       "      <td>&lt;function Submission.id_from_url at 0x7ff321b9...</td>\n",
       "      <td>False</td>\n",
       "      <td>...</td>\n",
       "      <td>False</td>\n",
       "      <td>212106</td>\n",
       "      <td>public</td>\n",
       "      <td>0</td>\n",
       "      <td>0.97</td>\n",
       "      <td>all_ads</td>\n",
       "      <td>False</td>\n",
       "      <td>/r/florida/comments/v3cqig/everyday_is_the_same/</td>\n",
       "      <td></td>\n",
       "      <td>https://i.redd.it/g39zpgm4i8391.jpg</td>\n",
       "    </tr>\n",
       "  </tbody>\n",
       "</table>\n",
       "<p>5 rows × 28 columns</p>\n",
       "</div>"
      ],
      "text/plain": [
       "                                                  title  num_comments  \\\n",
       "1495                    Welcome to the internet fam 2.0            24   \n",
       "1496  Street Fighter 6 - State of Play June 2022 Ann...           127   \n",
       "1497  Basically I was hunting the legendary White Bi...            77   \n",
       "1498  Hope everybody in the UK is having fun celebra...            21   \n",
       "1499                               everyday is the same            16   \n",
       "\n",
       "                subreddit  length_time_seconds  length_time_days  \\\n",
       "1495  goodmythicalmorning                37959                 0   \n",
       "1496        StreetFighter                 2069                 0   \n",
       "1497                 RDR2                24852                 0   \n",
       "1498      rupaulsdragrace                25714                 0   \n",
       "1499              florida                23447                 0   \n",
       "\n",
       "       created_utc distinguished      Id  \\\n",
       "1495  1.654173e+09          None  v37ov1   \n",
       "1496  1.654209e+09          None  v3kk4h   \n",
       "1497  1.654186e+09          None  v3c7d5   \n",
       "1498  1.654185e+09          None  v3bvlc   \n",
       "1499  1.654187e+09          None  v3cqig   \n",
       "\n",
       "                                            id_from_url  is_original_content  \\\n",
       "1495  <function Submission.id_from_url at 0x7ff321b9...                False   \n",
       "1496  <function Submission.id_from_url at 0x7ff321b9...                False   \n",
       "1497  <function Submission.id_from_url at 0x7ff321b9...                False   \n",
       "1498  <function Submission.id_from_url at 0x7ff321b9...                False   \n",
       "1499  <function Submission.id_from_url at 0x7ff321b9...                False   \n",
       "\n",
       "      ...  stickied  subreddit_subscribers subreddit_type  \\\n",
       "1495  ...     False                  66932         public   \n",
       "1496  ...     False                 150163         public   \n",
       "1497  ...     False                 206212         public   \n",
       "1498  ...     False                 490984         public   \n",
       "1499  ...     False                 212106         public   \n",
       "\n",
       "      total_awards_received  upvote_ratio  whitelist_status locked  \\\n",
       "1495                      2          0.98           all_ads  False   \n",
       "1496                      0          0.99           all_ads  False   \n",
       "1497                      0          0.98           all_ads  False   \n",
       "1498                      0          0.98           all_ads  False   \n",
       "1499                      0          0.97           all_ads  False   \n",
       "\n",
       "                                              permalink  selftext  \\\n",
       "1495  /r/goodmythicalmorning/comments/v37ov1/welcome...             \n",
       "1496  /r/StreetFighter/comments/v3kk4h/street_fighte...             \n",
       "1497  /r/RDR2/comments/v3c7d5/basically_i_was_huntin...             \n",
       "1498  /r/rupaulsdragrace/comments/v3bvlc/hope_everyb...             \n",
       "1499   /r/florida/comments/v3cqig/everyday_is_the_same/             \n",
       "\n",
       "                                      url  \n",
       "1495  https://i.redd.it/zl2el8uya7391.gif  \n",
       "1496         https://youtu.be/OU3nLXXrHdM  \n",
       "1497  https://i.redd.it/qxeouen0e8391.jpg  \n",
       "1498  https://i.redd.it/s25v10zfb8391.jpg  \n",
       "1499  https://i.redd.it/g39zpgm4i8391.jpg  \n",
       "\n",
       "[5 rows x 28 columns]"
      ]
     },
     "execution_count": 12,
     "metadata": {},
     "output_type": "execute_result"
    }
   ],
   "source": [
    "df.tail()"
   ]
  },
  {
   "cell_type": "code",
   "execution_count": 13,
   "id": "2c56918c",
   "metadata": {
    "ExecuteTime": {
     "end_time": "2022-06-02T22:56:48.676135Z",
     "start_time": "2022-06-02T22:56:48.654947Z"
    }
   },
   "outputs": [],
   "source": [
    "df.to_csv('datasets/pull_7.csv')"
   ]
  },
  {
   "cell_type": "code",
   "execution_count": 14,
   "id": "02632d8e",
   "metadata": {
    "ExecuteTime": {
     "end_time": "2022-06-02T22:56:48.680213Z",
     "start_time": "2022-06-02T22:56:48.678580Z"
    }
   },
   "outputs": [],
   "source": [
    "# lists = [title, num_comments, subreddit, length_time_seconds, length_time_days, \n",
    "#          created_utc, distinguished, Id, id_from_url, is_original_content, is_self, is_video, link_flair_text, \n",
    "#          num_crossposts, over_18, score, shortlink, spoiler, stickied, subreddit_subscribers, subreddit_type, \n",
    "#          total_awards_received, upvote_ratio, whitelist_status, locked, permalink, selftext, url\n",
    "#         ]"
   ]
  }
 ],
 "metadata": {
  "kernelspec": {
   "display_name": "Python 3 (ipykernel)",
   "language": "python",
   "name": "python3"
  },
  "language_info": {
   "codemirror_mode": {
    "name": "ipython",
    "version": 3
   },
   "file_extension": ".py",
   "mimetype": "text/x-python",
   "name": "python",
   "nbconvert_exporter": "python",
   "pygments_lexer": "ipython3",
   "version": "3.9.7"
  }
 },
 "nbformat": 4,
 "nbformat_minor": 5
}
