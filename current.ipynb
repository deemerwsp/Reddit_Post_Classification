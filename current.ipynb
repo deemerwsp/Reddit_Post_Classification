{
 "cells": [
  {
   "cell_type": "markdown",
   "id": "c573d617",
   "metadata": {},
   "source": [
    "### Problem Statement:\n",
    "What characteristics of a post on Reddit are most predictive of the overall interaction on a thread (as measured by number of comments)?\n",
    "\n",
    "You will build a classification model that, using Natural Language Processing and any other relevant features, predicts whether or not a given Reddit post will have above or below the median number of comments."
   ]
  },
  {
   "cell_type": "code",
   "execution_count": 132,
   "id": "36814299",
   "metadata": {
    "ExecuteTime": {
     "end_time": "2022-06-02T06:27:18.685864Z",
     "start_time": "2022-06-02T06:27:18.671321Z"
    }
   },
   "outputs": [],
   "source": [
    "import pandas as pd\n",
    "import numpy as np\n",
    "\n",
    "import matplotlib.pyplot as plt\n",
    "import seaborn as sns\n",
    "\n",
    "# import nltk\n",
    "# from nltk.stem.porter import *\n",
    "from  nltk.stem import PorterStemmer\n",
    "\n",
    "from sklearn.model_selection import cross_val_score\n",
    "from sklearn.model_selection import train_test_split\n",
    "\n",
    "# from sklearn.feature_extraction.text import CountVectorizer\n",
    "from sklearn.feature_extraction.text import TfidfVectorizer\n",
    "\n",
    "from sklearn.linear_model import LogisticRegression\n",
    "from sklearn.neighbors import KNeighborsClassifier\n",
    "from sklearn.metrics import confusion_matrix\n",
    "\n",
    "from sklearn.metrics import classification_report"
   ]
  },
  {
   "cell_type": "code",
   "execution_count": 2,
   "id": "d8ae92bc",
   "metadata": {
    "ExecuteTime": {
     "end_time": "2022-06-02T04:51:53.773320Z",
     "start_time": "2022-06-02T04:51:53.704592Z"
    }
   },
   "outputs": [],
   "source": [
    "rel_path_1 = ('datasets/pull_1.csv')\n",
    "rel_path_2 = ('datasets/pull_2.csv')\n",
    "rel_path_3 = ('datasets/pull_3.csv')\n",
    "rel_path_4 = ('datasets/pull_4.csv')\n",
    "rel_path_5 = ('datasets/pull_5.csv')\n",
    "\n",
    "df_1 = pd.read_csv(rel_path_1)\n",
    "df_2 = pd.read_csv(rel_path_2)\n",
    "df_3 = pd.read_csv(rel_path_3)\n",
    "df_4 = pd.read_csv(rel_path_4)\n",
    "df_5 = pd.read_csv(rel_path_5)\n",
    "\n",
    "df = pd.concat([df_1, df_2, df_3, df_4, df_5], ignore_index=True)"
   ]
  },
  {
   "cell_type": "code",
   "execution_count": 3,
   "id": "7c1e7229",
   "metadata": {
    "ExecuteTime": {
     "end_time": "2022-06-02T04:51:53.779915Z",
     "start_time": "2022-06-02T04:51:53.774210Z"
    }
   },
   "outputs": [],
   "source": [
    "df.drop(columns=['Unnamed: 0'], inplace=True)"
   ]
  },
  {
   "cell_type": "code",
   "execution_count": 4,
   "id": "2c2f4207",
   "metadata": {
    "ExecuteTime": {
     "end_time": "2022-06-02T04:51:53.787671Z",
     "start_time": "2022-06-02T04:51:53.781506Z"
    }
   },
   "outputs": [],
   "source": [
    "df.drop_duplicates(subset=['title'], keep='last', inplace=True)"
   ]
  },
  {
   "cell_type": "code",
   "execution_count": 5,
   "id": "c02bf41f",
   "metadata": {
    "ExecuteTime": {
     "end_time": "2022-06-02T04:51:53.799508Z",
     "start_time": "2022-06-02T04:51:53.788661Z"
    }
   },
   "outputs": [
    {
     "data": {
      "text/html": [
       "<div>\n",
       "<style scoped>\n",
       "    .dataframe tbody tr th:only-of-type {\n",
       "        vertical-align: middle;\n",
       "    }\n",
       "\n",
       "    .dataframe tbody tr th {\n",
       "        vertical-align: top;\n",
       "    }\n",
       "\n",
       "    .dataframe thead th {\n",
       "        text-align: right;\n",
       "    }\n",
       "</style>\n",
       "<table border=\"1\" class=\"dataframe\">\n",
       "  <thead>\n",
       "    <tr style=\"text-align: right;\">\n",
       "      <th></th>\n",
       "      <th>title</th>\n",
       "      <th>num_comments</th>\n",
       "      <th>subreddit</th>\n",
       "      <th>length_time_seconds</th>\n",
       "      <th>length_time_days</th>\n",
       "      <th>created_utc</th>\n",
       "      <th>distinguished</th>\n",
       "      <th>Id</th>\n",
       "      <th>id_from_url</th>\n",
       "      <th>is_original_content</th>\n",
       "      <th>...</th>\n",
       "      <th>stickied</th>\n",
       "      <th>subreddit_subscribers</th>\n",
       "      <th>subreddit_type</th>\n",
       "      <th>total_awards_received</th>\n",
       "      <th>upvote_ratio</th>\n",
       "      <th>whitelist_status</th>\n",
       "      <th>locked</th>\n",
       "      <th>permalink</th>\n",
       "      <th>selftext</th>\n",
       "      <th>url</th>\n",
       "    </tr>\n",
       "  </thead>\n",
       "  <tbody>\n",
       "  </tbody>\n",
       "</table>\n",
       "<p>0 rows × 28 columns</p>\n",
       "</div>"
      ],
      "text/plain": [
       "Empty DataFrame\n",
       "Columns: [title, num_comments, subreddit, length_time_seconds, length_time_days, created_utc, distinguished, Id, id_from_url, is_original_content, is_self, is_video, link_flair_text, num_crossposts, over_18, score, shortlink, spoiler, stickied, subreddit_subscribers, subreddit_type, total_awards_received, upvote_ratio, whitelist_status, locked, permalink, selftext, url]\n",
       "Index: []\n",
       "\n",
       "[0 rows x 28 columns]"
      ]
     },
     "execution_count": 5,
     "metadata": {},
     "output_type": "execute_result"
    }
   ],
   "source": [
    "df[df.title == '']"
   ]
  },
  {
   "cell_type": "code",
   "execution_count": 6,
   "id": "39e24f23",
   "metadata": {
    "ExecuteTime": {
     "end_time": "2022-06-02T04:51:53.813395Z",
     "start_time": "2022-06-02T04:51:53.800413Z"
    }
   },
   "outputs": [
    {
     "data": {
      "text/html": [
       "<div>\n",
       "<style scoped>\n",
       "    .dataframe tbody tr th:only-of-type {\n",
       "        vertical-align: middle;\n",
       "    }\n",
       "\n",
       "    .dataframe tbody tr th {\n",
       "        vertical-align: top;\n",
       "    }\n",
       "\n",
       "    .dataframe thead th {\n",
       "        text-align: right;\n",
       "    }\n",
       "</style>\n",
       "<table border=\"1\" class=\"dataframe\">\n",
       "  <thead>\n",
       "    <tr style=\"text-align: right;\">\n",
       "      <th></th>\n",
       "      <th>title</th>\n",
       "      <th>num_comments</th>\n",
       "      <th>subreddit</th>\n",
       "      <th>length_time_seconds</th>\n",
       "      <th>length_time_days</th>\n",
       "      <th>created_utc</th>\n",
       "      <th>distinguished</th>\n",
       "      <th>Id</th>\n",
       "      <th>id_from_url</th>\n",
       "      <th>is_original_content</th>\n",
       "      <th>...</th>\n",
       "      <th>stickied</th>\n",
       "      <th>subreddit_subscribers</th>\n",
       "      <th>subreddit_type</th>\n",
       "      <th>total_awards_received</th>\n",
       "      <th>upvote_ratio</th>\n",
       "      <th>whitelist_status</th>\n",
       "      <th>locked</th>\n",
       "      <th>permalink</th>\n",
       "      <th>selftext</th>\n",
       "      <th>url</th>\n",
       "    </tr>\n",
       "  </thead>\n",
       "  <tbody>\n",
       "    <tr>\n",
       "      <th>0</th>\n",
       "      <td>Cops don't help</td>\n",
       "      <td>922</td>\n",
       "      <td>WhitePeopleTwitter</td>\n",
       "      <td>15512</td>\n",
       "      <td>0</td>\n",
       "      <td>1.653687e+09</td>\n",
       "      <td>NaN</td>\n",
       "      <td>uz8935</td>\n",
       "      <td>&lt;function Submission.id_from_url at 0x7fb379c4...</td>\n",
       "      <td>False</td>\n",
       "      <td>...</td>\n",
       "      <td>False</td>\n",
       "      <td>2536345</td>\n",
       "      <td>public</td>\n",
       "      <td>11</td>\n",
       "      <td>0.94</td>\n",
       "      <td>some_ads</td>\n",
       "      <td>False</td>\n",
       "      <td>/r/WhitePeopleTwitter/comments/uz8935/cops_don...</td>\n",
       "      <td>NaN</td>\n",
       "      <td>https://i.redd.it/hmyphrd963291.jpg</td>\n",
       "    </tr>\n",
       "    <tr>\n",
       "      <th>1</th>\n",
       "      <td>Uvalde school police chief identified as comma...</td>\n",
       "      <td>2211</td>\n",
       "      <td>news</td>\n",
       "      <td>16502</td>\n",
       "      <td>0</td>\n",
       "      <td>1.653686e+09</td>\n",
       "      <td>NaN</td>\n",
       "      <td>uz7wjk</td>\n",
       "      <td>&lt;function Submission.id_from_url at 0x7fb379c4...</td>\n",
       "      <td>False</td>\n",
       "      <td>...</td>\n",
       "      <td>False</td>\n",
       "      <td>24719718</td>\n",
       "      <td>public</td>\n",
       "      <td>1</td>\n",
       "      <td>0.97</td>\n",
       "      <td>all_ads</td>\n",
       "      <td>False</td>\n",
       "      <td>/r/news/comments/uz7wjk/uvalde_school_police_c...</td>\n",
       "      <td>NaN</td>\n",
       "      <td>https://www.cnn.com/us/live-news/texas-element...</td>\n",
       "    </tr>\n",
       "    <tr>\n",
       "      <th>2</th>\n",
       "      <td>Police didn't immediately confront the gunman ...</td>\n",
       "      <td>1124</td>\n",
       "      <td>nottheonion</td>\n",
       "      <td>15525</td>\n",
       "      <td>0</td>\n",
       "      <td>1.653687e+09</td>\n",
       "      <td>NaN</td>\n",
       "      <td>uz88xi</td>\n",
       "      <td>&lt;function Submission.id_from_url at 0x7fb379c4...</td>\n",
       "      <td>False</td>\n",
       "      <td>...</td>\n",
       "      <td>False</td>\n",
       "      <td>21410253</td>\n",
       "      <td>public</td>\n",
       "      <td>2</td>\n",
       "      <td>0.97</td>\n",
       "      <td>all_ads</td>\n",
       "      <td>False</td>\n",
       "      <td>/r/nottheonion/comments/uz88xi/police_didnt_im...</td>\n",
       "      <td>NaN</td>\n",
       "      <td>https://www.insider.com/texas-shooting-police-...</td>\n",
       "    </tr>\n",
       "    <tr>\n",
       "      <th>3</th>\n",
       "      <td>The thin blue line</td>\n",
       "      <td>454</td>\n",
       "      <td>HolUp</td>\n",
       "      <td>15475</td>\n",
       "      <td>0</td>\n",
       "      <td>1.653687e+09</td>\n",
       "      <td>NaN</td>\n",
       "      <td>uz89iz</td>\n",
       "      <td>&lt;function Submission.id_from_url at 0x7fb379c4...</td>\n",
       "      <td>False</td>\n",
       "      <td>...</td>\n",
       "      <td>False</td>\n",
       "      <td>3090734</td>\n",
       "      <td>public</td>\n",
       "      <td>9</td>\n",
       "      <td>0.95</td>\n",
       "      <td>some_ads</td>\n",
       "      <td>False</td>\n",
       "      <td>/r/HolUp/comments/uz89iz/the_thin_blue_line/</td>\n",
       "      <td>NaN</td>\n",
       "      <td>https://i.redd.it/8g06ywgd63291.jpg</td>\n",
       "    </tr>\n",
       "    <tr>\n",
       "      <th>4</th>\n",
       "      <td>Customer is upset that a mattress store won’t…...</td>\n",
       "      <td>577</td>\n",
       "      <td>ChoosingBeggars</td>\n",
       "      <td>20426</td>\n",
       "      <td>0</td>\n",
       "      <td>1.653682e+09</td>\n",
       "      <td>NaN</td>\n",
       "      <td>uz6jv0</td>\n",
       "      <td>&lt;function Submission.id_from_url at 0x7fb379c4...</td>\n",
       "      <td>False</td>\n",
       "      <td>...</td>\n",
       "      <td>False</td>\n",
       "      <td>2315698</td>\n",
       "      <td>public</td>\n",
       "      <td>2</td>\n",
       "      <td>0.97</td>\n",
       "      <td>some_ads</td>\n",
       "      <td>False</td>\n",
       "      <td>/r/ChoosingBeggars/comments/uz6jv0/customer_is...</td>\n",
       "      <td>NaN</td>\n",
       "      <td>https://i.redd.it/p1tbj9lnr2291.jpg</td>\n",
       "    </tr>\n",
       "  </tbody>\n",
       "</table>\n",
       "<p>5 rows × 28 columns</p>\n",
       "</div>"
      ],
      "text/plain": [
       "                                               title  num_comments  \\\n",
       "0                                    Cops don't help           922   \n",
       "1  Uvalde school police chief identified as comma...          2211   \n",
       "2  Police didn't immediately confront the gunman ...          1124   \n",
       "3                                 The thin blue line           454   \n",
       "4  Customer is upset that a mattress store won’t…...           577   \n",
       "\n",
       "            subreddit  length_time_seconds  length_time_days   created_utc  \\\n",
       "0  WhitePeopleTwitter                15512                 0  1.653687e+09   \n",
       "1                news                16502                 0  1.653686e+09   \n",
       "2         nottheonion                15525                 0  1.653687e+09   \n",
       "3               HolUp                15475                 0  1.653687e+09   \n",
       "4     ChoosingBeggars                20426                 0  1.653682e+09   \n",
       "\n",
       "  distinguished      Id                                        id_from_url  \\\n",
       "0           NaN  uz8935  <function Submission.id_from_url at 0x7fb379c4...   \n",
       "1           NaN  uz7wjk  <function Submission.id_from_url at 0x7fb379c4...   \n",
       "2           NaN  uz88xi  <function Submission.id_from_url at 0x7fb379c4...   \n",
       "3           NaN  uz89iz  <function Submission.id_from_url at 0x7fb379c4...   \n",
       "4           NaN  uz6jv0  <function Submission.id_from_url at 0x7fb379c4...   \n",
       "\n",
       "   is_original_content  ...  stickied  subreddit_subscribers subreddit_type  \\\n",
       "0                False  ...     False                2536345         public   \n",
       "1                False  ...     False               24719718         public   \n",
       "2                False  ...     False               21410253         public   \n",
       "3                False  ...     False                3090734         public   \n",
       "4                False  ...     False                2315698         public   \n",
       "\n",
       "   total_awards_received  upvote_ratio  whitelist_status locked  \\\n",
       "0                     11          0.94          some_ads  False   \n",
       "1                      1          0.97           all_ads  False   \n",
       "2                      2          0.97           all_ads  False   \n",
       "3                      9          0.95          some_ads  False   \n",
       "4                      2          0.97          some_ads  False   \n",
       "\n",
       "                                           permalink  selftext  \\\n",
       "0  /r/WhitePeopleTwitter/comments/uz8935/cops_don...       NaN   \n",
       "1  /r/news/comments/uz7wjk/uvalde_school_police_c...       NaN   \n",
       "2  /r/nottheonion/comments/uz88xi/police_didnt_im...       NaN   \n",
       "3       /r/HolUp/comments/uz89iz/the_thin_blue_line/       NaN   \n",
       "4  /r/ChoosingBeggars/comments/uz6jv0/customer_is...       NaN   \n",
       "\n",
       "                                                 url  \n",
       "0                https://i.redd.it/hmyphrd963291.jpg  \n",
       "1  https://www.cnn.com/us/live-news/texas-element...  \n",
       "2  https://www.insider.com/texas-shooting-police-...  \n",
       "3                https://i.redd.it/8g06ywgd63291.jpg  \n",
       "4                https://i.redd.it/p1tbj9lnr2291.jpg  \n",
       "\n",
       "[5 rows x 28 columns]"
      ]
     },
     "execution_count": 6,
     "metadata": {},
     "output_type": "execute_result"
    }
   ],
   "source": [
    "df.head()"
   ]
  },
  {
   "cell_type": "code",
   "execution_count": 7,
   "id": "7d211fb1",
   "metadata": {
    "ExecuteTime": {
     "end_time": "2022-06-02T04:51:53.825063Z",
     "start_time": "2022-06-02T04:51:53.814237Z"
    }
   },
   "outputs": [
    {
     "name": "stdout",
     "output_type": "stream",
     "text": [
      "<class 'pandas.core.frame.DataFrame'>\n",
      "Int64Index: 7190 entries, 0 to 7499\n",
      "Data columns (total 28 columns):\n",
      " #   Column                 Non-Null Count  Dtype  \n",
      "---  ------                 --------------  -----  \n",
      " 0   title                  7190 non-null   object \n",
      " 1   num_comments           7190 non-null   int64  \n",
      " 2   subreddit              7190 non-null   object \n",
      " 3   length_time_seconds    7190 non-null   int64  \n",
      " 4   length_time_days       7190 non-null   int64  \n",
      " 5   created_utc            7190 non-null   float64\n",
      " 6   distinguished          8 non-null      object \n",
      " 7   Id                     7190 non-null   object \n",
      " 8   id_from_url            7190 non-null   object \n",
      " 9   is_original_content    7190 non-null   bool   \n",
      " 10  is_self                7190 non-null   bool   \n",
      " 11  is_video               7190 non-null   bool   \n",
      " 12  link_flair_text        3668 non-null   object \n",
      " 13  num_crossposts         7190 non-null   int64  \n",
      " 14  over_18                7190 non-null   bool   \n",
      " 15  score                  7190 non-null   int64  \n",
      " 16  shortlink              7190 non-null   object \n",
      " 17  spoiler                7190 non-null   bool   \n",
      " 18  stickied               7190 non-null   bool   \n",
      " 19  subreddit_subscribers  7190 non-null   int64  \n",
      " 20  subreddit_type         7190 non-null   object \n",
      " 21  total_awards_received  7190 non-null   int64  \n",
      " 22  upvote_ratio           7190 non-null   float64\n",
      " 23  whitelist_status       6965 non-null   object \n",
      " 24  locked                 7190 non-null   bool   \n",
      " 25  permalink              7190 non-null   object \n",
      " 26  selftext               317 non-null    object \n",
      " 27  url                    7190 non-null   object \n",
      "dtypes: bool(7), float64(2), int64(7), object(12)\n",
      "memory usage: 1.3+ MB\n"
     ]
    }
   ],
   "source": [
    "df.info()"
   ]
  },
  {
   "cell_type": "markdown",
   "id": "c8934459",
   "metadata": {},
   "source": [
    "# Classification\n",
    "Posts with likes above the median will be classified as 1 and below as 0"
   ]
  },
  {
   "cell_type": "markdown",
   "id": "509cc272",
   "metadata": {},
   "source": [
    "**Creating ```target```**  1 for posts with ```num_comments``` above median else zero"
   ]
  },
  {
   "cell_type": "code",
   "execution_count": 8,
   "id": "6fd00f48",
   "metadata": {
    "ExecuteTime": {
     "end_time": "2022-06-02T04:51:53.828252Z",
     "start_time": "2022-06-02T04:51:53.826287Z"
    }
   },
   "outputs": [],
   "source": [
    "benchmark = df.num_comments.median()"
   ]
  },
  {
   "cell_type": "code",
   "execution_count": 9,
   "id": "69941c46",
   "metadata": {
    "ExecuteTime": {
     "end_time": "2022-06-02T04:51:53.834464Z",
     "start_time": "2022-06-02T04:51:53.829401Z"
    }
   },
   "outputs": [],
   "source": [
    "df['target'] = [1 if num > benchmark else 0 for num in df.num_comments]"
   ]
  },
  {
   "cell_type": "code",
   "execution_count": 10,
   "id": "577727ff",
   "metadata": {
    "ExecuteTime": {
     "end_time": "2022-06-02T04:51:53.841322Z",
     "start_time": "2022-06-02T04:51:53.837579Z"
    }
   },
   "outputs": [
    {
     "data": {
      "text/plain": [
       "0    0.501947\n",
       "1    0.498053\n",
       "Name: target, dtype: float64"
      ]
     },
     "execution_count": 10,
     "metadata": {},
     "output_type": "execute_result"
    }
   ],
   "source": [
    "df['target'].value_counts(normalize=True)"
   ]
  },
  {
   "cell_type": "markdown",
   "id": "c5be94cb",
   "metadata": {},
   "source": [
    "- ```target``` = 0 (not 'hot') is the majority class "
   ]
  },
  {
   "cell_type": "markdown",
   "id": "1c98161e",
   "metadata": {},
   "source": [
    "---\n",
    "---"
   ]
  },
  {
   "cell_type": "markdown",
   "id": "6cea07b3",
   "metadata": {},
   "source": [
    "# Data Cleaning"
   ]
  },
  {
   "cell_type": "markdown",
   "id": "af4a1fc7",
   "metadata": {},
   "source": [
    "### Dropping Columns\n",
    "- null values are addressed in this section of the notebook"
   ]
  },
  {
   "cell_type": "markdown",
   "id": "32612554",
   "metadata": {},
   "source": [
    "**Dropping:**  ```distinguished```, ```id_from_url```, ```shortlink```, ```url```, ```link_flair_text```, ```selftext```\n",
    "- These columns all had too many null values to be useful, so they were dropped."
   ]
  },
  {
   "cell_type": "code",
   "execution_count": 11,
   "id": "849d49b6",
   "metadata": {
    "ExecuteTime": {
     "end_time": "2022-06-02T04:51:53.845667Z",
     "start_time": "2022-06-02T04:51:53.842365Z"
    }
   },
   "outputs": [],
   "source": [
    "df.drop(labels=['distinguished', \n",
    "                'id_from_url', \n",
    "                'shortlink', \n",
    "                'url', \n",
    "                'link_flair_text', \n",
    "                'selftext'], \n",
    "        axis=1, \n",
    "        inplace=True)"
   ]
  },
  {
   "cell_type": "markdown",
   "id": "df2b228a",
   "metadata": {},
   "source": [
    "**Dropping:**   ```length_time_days```\n",
    "- No posts were 'hot' for longer than a single day, so this feature is dropped. "
   ]
  },
  {
   "cell_type": "code",
   "execution_count": 12,
   "id": "dbf117c6",
   "metadata": {
    "ExecuteTime": {
     "end_time": "2022-06-02T04:51:53.849809Z",
     "start_time": "2022-06-02T04:51:53.846628Z"
    }
   },
   "outputs": [],
   "source": [
    "df.drop(labels=['length_time_days'], axis=1, inplace=True)"
   ]
  },
  {
   "cell_type": "markdown",
   "id": "4e99a794",
   "metadata": {},
   "source": [
    "**Dropping:**  ```stickied```\n",
    "- Very few posts were \"stickied\". This feature is not useful so it's being dropped. "
   ]
  },
  {
   "cell_type": "code",
   "execution_count": 13,
   "id": "54c05a63",
   "metadata": {
    "ExecuteTime": {
     "end_time": "2022-06-02T04:51:53.854814Z",
     "start_time": "2022-06-02T04:51:53.850792Z"
    }
   },
   "outputs": [
    {
     "data": {
      "text/plain": [
       "False    0.997357\n",
       "True     0.002643\n",
       "Name: stickied, dtype: float64"
      ]
     },
     "execution_count": 13,
     "metadata": {},
     "output_type": "execute_result"
    }
   ],
   "source": [
    "df.stickied.value_counts(normalize=True)"
   ]
  },
  {
   "cell_type": "code",
   "execution_count": 14,
   "id": "5110cd71",
   "metadata": {
    "ExecuteTime": {
     "end_time": "2022-06-02T04:51:53.858796Z",
     "start_time": "2022-06-02T04:51:53.855832Z"
    }
   },
   "outputs": [],
   "source": [
    "df.drop(labels=['stickied'], axis=1, inplace=True)"
   ]
  },
  {
   "cell_type": "markdown",
   "id": "fddb9073",
   "metadata": {},
   "source": [
    "**```whitelist_status``` vs. ```over_18```**\n",
    "- These features are related. All 112 posts with \"promo_adult_nsfw\" are listed as \"over_18\"\n",
    "- ```whitelist_status``` has fewer posts in the aforementioned category than ```over_18```\n",
    "- All other groups in ```whitelist_status``` have similar means \n",
    "- Because of these observations, ```whitelist_status``` is being dropped"
   ]
  },
  {
   "cell_type": "code",
   "execution_count": 15,
   "id": "d7a2be53",
   "metadata": {
    "ExecuteTime": {
     "end_time": "2022-06-02T04:51:53.863514Z",
     "start_time": "2022-06-02T04:51:53.859709Z"
    }
   },
   "outputs": [
    {
     "data": {
      "text/plain": [
       "all_ads             5013\n",
       "no_ads               938\n",
       "some_ads             902\n",
       "promo_adult_nsfw     112\n",
       "Name: whitelist_status, dtype: int64"
      ]
     },
     "execution_count": 15,
     "metadata": {},
     "output_type": "execute_result"
    }
   ],
   "source": [
    "df.whitelist_status.value_counts()"
   ]
  },
  {
   "cell_type": "code",
   "execution_count": 16,
   "id": "e9839259",
   "metadata": {
    "ExecuteTime": {
     "end_time": "2022-06-02T04:51:53.868215Z",
     "start_time": "2022-06-02T04:51:53.864606Z"
    }
   },
   "outputs": [
    {
     "data": {
      "text/plain": [
       "False    7020\n",
       "True      170\n",
       "Name: over_18, dtype: int64"
      ]
     },
     "execution_count": 16,
     "metadata": {},
     "output_type": "execute_result"
    }
   ],
   "source": [
    "df.over_18.value_counts()"
   ]
  },
  {
   "cell_type": "code",
   "execution_count": 17,
   "id": "9d143f05",
   "metadata": {
    "ExecuteTime": {
     "end_time": "2022-06-02T04:51:53.873189Z",
     "start_time": "2022-06-02T04:51:53.869067Z"
    }
   },
   "outputs": [
    {
     "data": {
      "text/plain": [
       "112"
      ]
     },
     "execution_count": 17,
     "metadata": {},
     "output_type": "execute_result"
    }
   ],
   "source": [
    "df[(df.over_18 == True) & (df.whitelist_status ==  'promo_adult_nsfw')].title.count()"
   ]
  },
  {
   "cell_type": "code",
   "execution_count": 18,
   "id": "fc544cb6",
   "metadata": {
    "ExecuteTime": {
     "end_time": "2022-06-02T04:51:53.878735Z",
     "start_time": "2022-06-02T04:51:53.874340Z"
    }
   },
   "outputs": [
    {
     "data": {
      "text/plain": [
       "over_18\n",
       "False    53.0\n",
       "True     89.0\n",
       "Name: num_comments, dtype: float64"
      ]
     },
     "execution_count": 18,
     "metadata": {},
     "output_type": "execute_result"
    }
   ],
   "source": [
    "df.groupby('over_18')['num_comments'].median()"
   ]
  },
  {
   "cell_type": "code",
   "execution_count": 19,
   "id": "009f913d",
   "metadata": {
    "ExecuteTime": {
     "end_time": "2022-06-02T04:51:53.883988Z",
     "start_time": "2022-06-02T04:51:53.879746Z"
    }
   },
   "outputs": [
    {
     "data": {
      "text/plain": [
       "whitelist_status\n",
       "all_ads             53.0\n",
       "no_ads              51.0\n",
       "promo_adult_nsfw    91.5\n",
       "some_ads            59.0\n",
       "Name: num_comments, dtype: float64"
      ]
     },
     "execution_count": 19,
     "metadata": {},
     "output_type": "execute_result"
    }
   ],
   "source": [
    "df.groupby('whitelist_status')['num_comments'].median()"
   ]
  },
  {
   "cell_type": "code",
   "execution_count": 20,
   "id": "d2d6edce",
   "metadata": {
    "ExecuteTime": {
     "end_time": "2022-06-02T04:51:53.887911Z",
     "start_time": "2022-06-02T04:51:53.885013Z"
    }
   },
   "outputs": [],
   "source": [
    "df.drop(columns='whitelist_status', axis=1, inplace=True)"
   ]
  },
  {
   "cell_type": "code",
   "execution_count": 21,
   "id": "5b1b8955",
   "metadata": {
    "ExecuteTime": {
     "end_time": "2022-06-02T04:51:53.941932Z",
     "start_time": "2022-06-02T04:51:53.889028Z"
    }
   },
   "outputs": [
    {
     "data": {
      "text/html": [
       "<div>\n",
       "<style scoped>\n",
       "    .dataframe tbody tr th:only-of-type {\n",
       "        vertical-align: middle;\n",
       "    }\n",
       "\n",
       "    .dataframe tbody tr th {\n",
       "        vertical-align: top;\n",
       "    }\n",
       "\n",
       "    .dataframe thead th {\n",
       "        text-align: right;\n",
       "    }\n",
       "</style>\n",
       "<table border=\"1\" class=\"dataframe\">\n",
       "  <thead>\n",
       "    <tr style=\"text-align: right;\">\n",
       "      <th></th>\n",
       "      <th>nulls</th>\n",
       "      <th>dtype</th>\n",
       "      <th>nunique_values</th>\n",
       "      <th>unique_values</th>\n",
       "      <th>value_counts</th>\n",
       "    </tr>\n",
       "  </thead>\n",
       "  <tbody>\n",
       "    <tr>\n",
       "      <th>title</th>\n",
       "      <td>0</td>\n",
       "      <td>object</td>\n",
       "      <td>7190</td>\n",
       "      <td>[Cops don't help, Uvalde school police chief i...</td>\n",
       "      <td>Cops don't help                               ...</td>\n",
       "    </tr>\n",
       "    <tr>\n",
       "      <th>num_comments</th>\n",
       "      <td>0</td>\n",
       "      <td>int64</td>\n",
       "      <td>835</td>\n",
       "      <td>[922, 2211, 1124, 454, 577, 953, 155, 462, 302...</td>\n",
       "      <td>13      106\n",
       "20      101\n",
       "12      100\n",
       "21       9...</td>\n",
       "    </tr>\n",
       "    <tr>\n",
       "      <th>subreddit</th>\n",
       "      <td>0</td>\n",
       "      <td>object</td>\n",
       "      <td>1917</td>\n",
       "      <td>[WhitePeopleTwitter, news, nottheonion, HolUp,...</td>\n",
       "      <td>Superstonk            22\n",
       "WhitePeopleTwitter   ...</td>\n",
       "    </tr>\n",
       "    <tr>\n",
       "      <th>length_time_seconds</th>\n",
       "      <td>0</td>\n",
       "      <td>int64</td>\n",
       "      <td>6668</td>\n",
       "      <td>[15512, 16502, 15525, 15475, 20426, 21833, 123...</td>\n",
       "      <td>26257    4\n",
       "37382    3\n",
       "39575    3\n",
       "24781    3\n",
       "14...</td>\n",
       "    </tr>\n",
       "    <tr>\n",
       "      <th>created_utc</th>\n",
       "      <td>0</td>\n",
       "      <td>float64</td>\n",
       "      <td>7087</td>\n",
       "      <td>[1653686766.0, 1653685776.0, 1653686753.0, 165...</td>\n",
       "      <td>1.653924e+09    2\n",
       "1.653997e+09    2\n",
       "1.653994e+...</td>\n",
       "    </tr>\n",
       "    <tr>\n",
       "      <th>Id</th>\n",
       "      <td>0</td>\n",
       "      <td>object</td>\n",
       "      <td>7190</td>\n",
       "      <td>[uz8935, uz7wjk, uz88xi, uz89iz, uz6jv0, uz626...</td>\n",
       "      <td>uz8935    1\n",
       "v11ugb    1\n",
       "v0zpkw    1\n",
       "v17rmx    ...</td>\n",
       "    </tr>\n",
       "    <tr>\n",
       "      <th>is_original_content</th>\n",
       "      <td>0</td>\n",
       "      <td>bool</td>\n",
       "      <td>2</td>\n",
       "      <td>[False, True]</td>\n",
       "      <td>False    7009\n",
       "True      181\n",
       "Name: is_original_...</td>\n",
       "    </tr>\n",
       "    <tr>\n",
       "      <th>is_self</th>\n",
       "      <td>0</td>\n",
       "      <td>bool</td>\n",
       "      <td>2</td>\n",
       "      <td>[False, True]</td>\n",
       "      <td>False    6818\n",
       "True      372\n",
       "Name: is_self, dty...</td>\n",
       "    </tr>\n",
       "    <tr>\n",
       "      <th>is_video</th>\n",
       "      <td>0</td>\n",
       "      <td>bool</td>\n",
       "      <td>2</td>\n",
       "      <td>[False, True]</td>\n",
       "      <td>False    6019\n",
       "True     1171\n",
       "Name: is_video, dt...</td>\n",
       "    </tr>\n",
       "    <tr>\n",
       "      <th>num_crossposts</th>\n",
       "      <td>0</td>\n",
       "      <td>int64</td>\n",
       "      <td>34</td>\n",
       "      <td>[4, 2, 1, 0, 5, 7, 3, 6, 13, 23, 10, 14, 22, 3...</td>\n",
       "      <td>0     4933\n",
       "1     1136\n",
       "2      443\n",
       "3      209\n",
       "4 ...</td>\n",
       "    </tr>\n",
       "    <tr>\n",
       "      <th>over_18</th>\n",
       "      <td>0</td>\n",
       "      <td>bool</td>\n",
       "      <td>2</td>\n",
       "      <td>[False, True]</td>\n",
       "      <td>False    7020\n",
       "True      170\n",
       "Name: over_18, dty...</td>\n",
       "    </tr>\n",
       "    <tr>\n",
       "      <th>score</th>\n",
       "      <td>0</td>\n",
       "      <td>int64</td>\n",
       "      <td>4173</td>\n",
       "      <td>[51277, 23199, 16387, 16149, 22134, 28257, 117...</td>\n",
       "      <td>350     10\n",
       "1068    10\n",
       "649      9\n",
       "602      9\n",
       "34...</td>\n",
       "    </tr>\n",
       "    <tr>\n",
       "      <th>spoiler</th>\n",
       "      <td>0</td>\n",
       "      <td>bool</td>\n",
       "      <td>2</td>\n",
       "      <td>[False, True]</td>\n",
       "      <td>False    7096\n",
       "True       94\n",
       "Name: spoiler, dty...</td>\n",
       "    </tr>\n",
       "    <tr>\n",
       "      <th>subreddit_subscribers</th>\n",
       "      <td>0</td>\n",
       "      <td>int64</td>\n",
       "      <td>6280</td>\n",
       "      <td>[2536345, 24719718, 21410253, 3090734, 2315698...</td>\n",
       "      <td>788779     7\n",
       "2538104    5\n",
       "8063211    5\n",
       "2536345...</td>\n",
       "    </tr>\n",
       "    <tr>\n",
       "      <th>subreddit_type</th>\n",
       "      <td>0</td>\n",
       "      <td>object</td>\n",
       "      <td>2</td>\n",
       "      <td>[public, restricted]</td>\n",
       "      <td>public        7169\n",
       "restricted      21\n",
       "Name: su...</td>\n",
       "    </tr>\n",
       "    <tr>\n",
       "      <th>total_awards_received</th>\n",
       "      <td>0</td>\n",
       "      <td>int64</td>\n",
       "      <td>65</td>\n",
       "      <td>[11, 1, 2, 9, 13, 45, 5, 10, 7, 21, 0, 4, 17, ...</td>\n",
       "      <td>0      3587\n",
       "1      1445\n",
       "2       692\n",
       "3       37...</td>\n",
       "    </tr>\n",
       "    <tr>\n",
       "      <th>upvote_ratio</th>\n",
       "      <td>0</td>\n",
       "      <td>float64</td>\n",
       "      <td>37</td>\n",
       "      <td>[0.94, 0.97, 0.95, 0.98, 0.8, 0.75, 0.89, 0.96...</td>\n",
       "      <td>0.98    1773\n",
       "0.99    1589\n",
       "0.97    1144\n",
       "0.96   ...</td>\n",
       "    </tr>\n",
       "    <tr>\n",
       "      <th>locked</th>\n",
       "      <td>0</td>\n",
       "      <td>bool</td>\n",
       "      <td>2</td>\n",
       "      <td>[False, True]</td>\n",
       "      <td>False    7125\n",
       "True       65\n",
       "Name: locked, dtyp...</td>\n",
       "    </tr>\n",
       "    <tr>\n",
       "      <th>permalink</th>\n",
       "      <td>0</td>\n",
       "      <td>object</td>\n",
       "      <td>7190</td>\n",
       "      <td>[/r/WhitePeopleTwitter/comments/uz8935/cops_do...</td>\n",
       "      <td>/r/WhitePeopleTwitter/comments/uz8935/cops_don...</td>\n",
       "    </tr>\n",
       "    <tr>\n",
       "      <th>target</th>\n",
       "      <td>0</td>\n",
       "      <td>int64</td>\n",
       "      <td>2</td>\n",
       "      <td>[1, 0]</td>\n",
       "      <td>0    3609\n",
       "1    3581\n",
       "Name: target, dtype: int64</td>\n",
       "    </tr>\n",
       "  </tbody>\n",
       "</table>\n",
       "</div>"
      ],
      "text/plain": [
       "                       nulls    dtype  nunique_values  \\\n",
       "title                      0   object            7190   \n",
       "num_comments               0    int64             835   \n",
       "subreddit                  0   object            1917   \n",
       "length_time_seconds        0    int64            6668   \n",
       "created_utc                0  float64            7087   \n",
       "Id                         0   object            7190   \n",
       "is_original_content        0     bool               2   \n",
       "is_self                    0     bool               2   \n",
       "is_video                   0     bool               2   \n",
       "num_crossposts             0    int64              34   \n",
       "over_18                    0     bool               2   \n",
       "score                      0    int64            4173   \n",
       "spoiler                    0     bool               2   \n",
       "subreddit_subscribers      0    int64            6280   \n",
       "subreddit_type             0   object               2   \n",
       "total_awards_received      0    int64              65   \n",
       "upvote_ratio               0  float64              37   \n",
       "locked                     0     bool               2   \n",
       "permalink                  0   object            7190   \n",
       "target                     0    int64               2   \n",
       "\n",
       "                                                           unique_values  \\\n",
       "title                  [Cops don't help, Uvalde school police chief i...   \n",
       "num_comments           [922, 2211, 1124, 454, 577, 953, 155, 462, 302...   \n",
       "subreddit              [WhitePeopleTwitter, news, nottheonion, HolUp,...   \n",
       "length_time_seconds    [15512, 16502, 15525, 15475, 20426, 21833, 123...   \n",
       "created_utc            [1653686766.0, 1653685776.0, 1653686753.0, 165...   \n",
       "Id                     [uz8935, uz7wjk, uz88xi, uz89iz, uz6jv0, uz626...   \n",
       "is_original_content                                        [False, True]   \n",
       "is_self                                                    [False, True]   \n",
       "is_video                                                   [False, True]   \n",
       "num_crossposts         [4, 2, 1, 0, 5, 7, 3, 6, 13, 23, 10, 14, 22, 3...   \n",
       "over_18                                                    [False, True]   \n",
       "score                  [51277, 23199, 16387, 16149, 22134, 28257, 117...   \n",
       "spoiler                                                    [False, True]   \n",
       "subreddit_subscribers  [2536345, 24719718, 21410253, 3090734, 2315698...   \n",
       "subreddit_type                                      [public, restricted]   \n",
       "total_awards_received  [11, 1, 2, 9, 13, 45, 5, 10, 7, 21, 0, 4, 17, ...   \n",
       "upvote_ratio           [0.94, 0.97, 0.95, 0.98, 0.8, 0.75, 0.89, 0.96...   \n",
       "locked                                                     [False, True]   \n",
       "permalink              [/r/WhitePeopleTwitter/comments/uz8935/cops_do...   \n",
       "target                                                            [1, 0]   \n",
       "\n",
       "                                                            value_counts  \n",
       "title                  Cops don't help                               ...  \n",
       "num_comments           13      106\n",
       "20      101\n",
       "12      100\n",
       "21       9...  \n",
       "subreddit              Superstonk            22\n",
       "WhitePeopleTwitter   ...  \n",
       "length_time_seconds    26257    4\n",
       "37382    3\n",
       "39575    3\n",
       "24781    3\n",
       "14...  \n",
       "created_utc            1.653924e+09    2\n",
       "1.653997e+09    2\n",
       "1.653994e+...  \n",
       "Id                     uz8935    1\n",
       "v11ugb    1\n",
       "v0zpkw    1\n",
       "v17rmx    ...  \n",
       "is_original_content    False    7009\n",
       "True      181\n",
       "Name: is_original_...  \n",
       "is_self                False    6818\n",
       "True      372\n",
       "Name: is_self, dty...  \n",
       "is_video               False    6019\n",
       "True     1171\n",
       "Name: is_video, dt...  \n",
       "num_crossposts         0     4933\n",
       "1     1136\n",
       "2      443\n",
       "3      209\n",
       "4 ...  \n",
       "over_18                False    7020\n",
       "True      170\n",
       "Name: over_18, dty...  \n",
       "score                  350     10\n",
       "1068    10\n",
       "649      9\n",
       "602      9\n",
       "34...  \n",
       "spoiler                False    7096\n",
       "True       94\n",
       "Name: spoiler, dty...  \n",
       "subreddit_subscribers  788779     7\n",
       "2538104    5\n",
       "8063211    5\n",
       "2536345...  \n",
       "subreddit_type         public        7169\n",
       "restricted      21\n",
       "Name: su...  \n",
       "total_awards_received  0      3587\n",
       "1      1445\n",
       "2       692\n",
       "3       37...  \n",
       "upvote_ratio           0.98    1773\n",
       "0.99    1589\n",
       "0.97    1144\n",
       "0.96   ...  \n",
       "locked                 False    7125\n",
       "True       65\n",
       "Name: locked, dtyp...  \n",
       "permalink              /r/WhitePeopleTwitter/comments/uz8935/cops_don...  \n",
       "target                    0    3609\n",
       "1    3581\n",
       "Name: target, dtype: int64  "
      ]
     },
     "execution_count": 21,
     "metadata": {},
     "output_type": "execute_result"
    }
   ],
   "source": [
    "df_info = pd.DataFrame({'nulls': [df[col].isna().sum() for col in df.keys()], \n",
    "                        'dtype': [df[col].dtype for col in df.keys()], \n",
    "                        'nunique_values': [df[col].nunique() for col in df.keys()], \n",
    "                        'unique_values': [df[col].unique()for col in df.keys()], \n",
    "                        'value_counts': [df[col].value_counts() for col in df.keys()]}, \n",
    "                        index=[col for col in df.keys()])\n",
    "df_info"
   ]
  },
  {
   "cell_type": "code",
   "execution_count": 22,
   "id": "ebbd896c",
   "metadata": {
    "ExecuteTime": {
     "end_time": "2022-06-02T04:51:53.953562Z",
     "start_time": "2022-06-02T04:51:53.943214Z"
    },
    "scrolled": true
   },
   "outputs": [
    {
     "data": {
      "text/html": [
       "<div>\n",
       "<style scoped>\n",
       "    .dataframe tbody tr th:only-of-type {\n",
       "        vertical-align: middle;\n",
       "    }\n",
       "\n",
       "    .dataframe tbody tr th {\n",
       "        vertical-align: top;\n",
       "    }\n",
       "\n",
       "    .dataframe thead th {\n",
       "        text-align: right;\n",
       "    }\n",
       "</style>\n",
       "<table border=\"1\" class=\"dataframe\">\n",
       "  <thead>\n",
       "    <tr style=\"text-align: right;\">\n",
       "      <th></th>\n",
       "      <th>count</th>\n",
       "      <th>mean</th>\n",
       "      <th>std</th>\n",
       "      <th>min</th>\n",
       "      <th>25%</th>\n",
       "      <th>50%</th>\n",
       "      <th>75%</th>\n",
       "      <th>max</th>\n",
       "    </tr>\n",
       "    <tr>\n",
       "      <th>is_self</th>\n",
       "      <th></th>\n",
       "      <th></th>\n",
       "      <th></th>\n",
       "      <th></th>\n",
       "      <th></th>\n",
       "      <th></th>\n",
       "      <th></th>\n",
       "      <th></th>\n",
       "    </tr>\n",
       "  </thead>\n",
       "  <tbody>\n",
       "    <tr>\n",
       "      <th>False</th>\n",
       "      <td>6818.0</td>\n",
       "      <td>145.720006</td>\n",
       "      <td>366.783246</td>\n",
       "      <td>0.0</td>\n",
       "      <td>22.0</td>\n",
       "      <td>51.0</td>\n",
       "      <td>125.00</td>\n",
       "      <td>8579.0</td>\n",
       "    </tr>\n",
       "    <tr>\n",
       "      <th>True</th>\n",
       "      <td>372.0</td>\n",
       "      <td>563.973118</td>\n",
       "      <td>1633.164134</td>\n",
       "      <td>3.0</td>\n",
       "      <td>78.5</td>\n",
       "      <td>170.0</td>\n",
       "      <td>407.75</td>\n",
       "      <td>16731.0</td>\n",
       "    </tr>\n",
       "  </tbody>\n",
       "</table>\n",
       "</div>"
      ],
      "text/plain": [
       "          count        mean          std  min   25%    50%     75%      max\n",
       "is_self                                                                    \n",
       "False    6818.0  145.720006   366.783246  0.0  22.0   51.0  125.00   8579.0\n",
       "True      372.0  563.973118  1633.164134  3.0  78.5  170.0  407.75  16731.0"
      ]
     },
     "execution_count": 22,
     "metadata": {},
     "output_type": "execute_result"
    }
   ],
   "source": [
    "df.groupby('is_self')['num_comments'].describe()"
   ]
  },
  {
   "cell_type": "markdown",
   "id": "41222c17",
   "metadata": {},
   "source": [
    "## Addressing Outliers"
   ]
  },
  {
   "cell_type": "markdown",
   "id": "f70a49fe",
   "metadata": {},
   "source": [
    "**Target Outliers**\n",
    "- In order to reduce the skew of our target, we removed ___ Rows from that had ```num_comments``` above 1200\n",
    "- These posts were extreme outliers. This is only 2% of our dataset. \n",
    "- Our median nearly the same. \n",
    "- These posts most likely had other misleading features that could make our model less accurate. "
   ]
  },
  {
   "cell_type": "code",
   "execution_count": 23,
   "id": "c82227ad",
   "metadata": {
    "ExecuteTime": {
     "end_time": "2022-06-02T04:51:53.957601Z",
     "start_time": "2022-06-02T04:51:53.954533Z"
    }
   },
   "outputs": [
    {
     "name": "stdout",
     "output_type": "stream",
     "text": [
      "(7190, 20)\n",
      "147\n"
     ]
    }
   ],
   "source": [
    "print(df.shape)\n",
    "print(df[df.num_comments > 1200].title.count())"
   ]
  },
  {
   "cell_type": "code",
   "execution_count": 24,
   "id": "7a538c3d",
   "metadata": {
    "ExecuteTime": {
     "end_time": "2022-06-02T04:51:53.962191Z",
     "start_time": "2022-06-02T04:51:53.958676Z"
    }
   },
   "outputs": [],
   "source": [
    "df.drop(index=df[df.num_comments > 1200].index, inplace=True)\n",
    "df.reset_index(drop=True, inplace=True)"
   ]
  },
  {
   "cell_type": "markdown",
   "id": "a84d16b7",
   "metadata": {},
   "source": [
    "---\n",
    "---"
   ]
  },
  {
   "cell_type": "markdown",
   "id": "54fa449a",
   "metadata": {},
   "source": [
    "# Exploratory Data Analysis"
   ]
  },
  {
   "cell_type": "code",
   "execution_count": 25,
   "id": "f8d2ed7a",
   "metadata": {
    "ExecuteTime": {
     "end_time": "2022-06-02T04:51:53.968464Z",
     "start_time": "2022-06-02T04:51:53.963171Z"
    }
   },
   "outputs": [
    {
     "data": {
      "text/plain": [
       "memes                   21\n",
       "Superstonk              20\n",
       "formula1                19\n",
       "greentext               19\n",
       "shitposting             19\n",
       "MadeMeSmile             18\n",
       "funny                   18\n",
       "Eldenring               18\n",
       "dankmemes               18\n",
       "politics                17\n",
       "ProgrammerHumor         17\n",
       "PrequelMemes            17\n",
       "Damnthatsinteresting    17\n",
       "formuladank             17\n",
       "HolUp                   17\n",
       "oddlysatisfying         16\n",
       "aww                     16\n",
       "dndmemes                16\n",
       "facepalm                16\n",
       "WhitePeopleTwitter      16\n",
       "nextfuckinglevel        15\n",
       "PoliticalHumor          15\n",
       "WitchesVsPatriarchy     15\n",
       "interestingasfuck       15\n",
       "antiwork                15\n",
       "Genshin_Impact          15\n",
       "tumblr                  15\n",
       "BlackPeopleTwitter      15\n",
       "Unexpected              15\n",
       "pics                    14\n",
       "Name: subreddit, dtype: int64"
      ]
     },
     "execution_count": 25,
     "metadata": {},
     "output_type": "execute_result"
    }
   ],
   "source": [
    "df.subreddit.value_counts().head(30)"
   ]
  },
  {
   "cell_type": "code",
   "execution_count": 26,
   "id": "887506c2",
   "metadata": {
    "ExecuteTime": {
     "end_time": "2022-06-02T04:51:53.972629Z",
     "start_time": "2022-06-02T04:51:53.969330Z"
    }
   },
   "outputs": [
    {
     "data": {
      "text/plain": [
       "1915"
      ]
     },
     "execution_count": 26,
     "metadata": {},
     "output_type": "execute_result"
    }
   ],
   "source": [
    "df.subreddit.nunique()"
   ]
  },
  {
   "cell_type": "code",
   "execution_count": 27,
   "id": "fed61d44",
   "metadata": {
    "ExecuteTime": {
     "end_time": "2022-06-02T04:51:53.976526Z",
     "start_time": "2022-06-02T04:51:53.973536Z"
    }
   },
   "outputs": [
    {
     "data": {
      "text/plain": [
       "0    WhitePeopleTwitter\n",
       "1           nottheonion\n",
       "2                 HolUp\n",
       "3       ChoosingBeggars\n",
       "4              antiwork\n",
       "Name: subreddit, dtype: object"
      ]
     },
     "execution_count": 27,
     "metadata": {},
     "output_type": "execute_result"
    }
   ],
   "source": [
    "df.subreddit.head()"
   ]
  },
  {
   "cell_type": "markdown",
   "id": "3447a4f8",
   "metadata": {},
   "source": [
    "## Target"
   ]
  },
  {
   "cell_type": "code",
   "execution_count": 28,
   "id": "cef9e12a",
   "metadata": {
    "ExecuteTime": {
     "end_time": "2022-06-02T04:51:53.983247Z",
     "start_time": "2022-06-02T04:51:53.980651Z"
    }
   },
   "outputs": [
    {
     "data": {
      "text/plain": [
       "Index(['title', 'num_comments', 'subreddit', 'length_time_seconds',\n",
       "       'created_utc', 'Id', 'is_original_content', 'is_self', 'is_video',\n",
       "       'num_crossposts', 'over_18', 'score', 'spoiler',\n",
       "       'subreddit_subscribers', 'subreddit_type', 'total_awards_received',\n",
       "       'upvote_ratio', 'locked', 'permalink', 'target'],\n",
       "      dtype='object')"
      ]
     },
     "execution_count": 28,
     "metadata": {},
     "output_type": "execute_result"
    }
   ],
   "source": [
    "df.columns"
   ]
  },
  {
   "cell_type": "code",
   "execution_count": 29,
   "id": "54cc1697",
   "metadata": {
    "ExecuteTime": {
     "end_time": "2022-06-02T04:51:53.989107Z",
     "start_time": "2022-06-02T04:51:53.984334Z"
    }
   },
   "outputs": [
    {
     "data": {
      "text/plain": [
       "count    7043.000000\n",
       "mean      115.036632\n",
       "std       171.177750\n",
       "min         0.000000\n",
       "25%        22.000000\n",
       "50%        52.000000\n",
       "75%       126.000000\n",
       "max      1199.000000\n",
       "Name: num_comments, dtype: float64"
      ]
     },
     "execution_count": 29,
     "metadata": {},
     "output_type": "execute_result"
    }
   ],
   "source": [
    "df.num_comments.describe()"
   ]
  },
  {
   "cell_type": "code",
   "execution_count": 30,
   "id": "a3d46680",
   "metadata": {
    "ExecuteTime": {
     "end_time": "2022-06-02T04:51:54.068750Z",
     "start_time": "2022-06-02T04:51:53.990036Z"
    }
   },
   "outputs": [
    {
     "data": {
      "image/png": "[encoded data removed]",
      "text/plain": [
       "<Figure size 432x288 with 1 Axes>"
      ]
     },
     "metadata": {
      "needs_background": "light"
     },
     "output_type": "display_data"
    }
   ],
   "source": [
    "sns.ecdfplot(data=df, x='num_comments');"
   ]
  },
  {
   "cell_type": "code",
   "execution_count": 31,
   "id": "8b33a0e9",
   "metadata": {
    "ExecuteTime": {
     "end_time": "2022-06-02T04:51:54.911176Z",
     "start_time": "2022-06-02T04:51:54.069940Z"
    }
   },
   "outputs": [
    {
     "data": {
      "text/plain": [
       "''"
      ]
     },
     "execution_count": 31,
     "metadata": {},
     "output_type": "execute_result"
    },
    {
     "data": {
      "image/png": "[encoded data removed]",
      "text/plain": [
       "<Figure size 1008x720 with 2 Axes>"
      ]
     },
     "metadata": {
      "needs_background": "light"
     },
     "output_type": "display_data"
    }
   ],
   "source": [
    "fig, ax = plt.subplots(2, 1, figsize=(14, 10))\n",
    "\n",
    "ax[0].hist(df.num_comments, 1000, density = True, \n",
    "         histtype ='bar')\n",
    "sns.boxplot(x='num_comments', data=df, ax=ax[1])           \n",
    ";"
   ]
  },
  {
   "cell_type": "markdown",
   "id": "9c8d42cc",
   "metadata": {},
   "source": [
    "**```upvote_ratio``` vs. ```num_comments```**\n",
    "- This feature does not have a correlation with the target. \n",
    "- It is interesting that posts with low```num_comments``` have high ```upvote_ratio``` for the most part. This may be because the algorithm that Reddit uses to classify posts as \"hot\" gives this feature significant weight. \n",
    "- For our model that compares the ```num_comments``` for a post relative to the median, this feature will not be useful in our model. This feature is being dropped. "
   ]
  },
  {
   "cell_type": "code",
   "execution_count": 32,
   "id": "08a623c9",
   "metadata": {
    "ExecuteTime": {
     "end_time": "2022-06-02T04:51:54.915416Z",
     "start_time": "2022-06-02T04:51:54.911961Z"
    }
   },
   "outputs": [
    {
     "data": {
      "text/plain": [
       "-0.472"
      ]
     },
     "execution_count": 32,
     "metadata": {},
     "output_type": "execute_result"
    }
   ],
   "source": [
    "round(np.corrcoef(df.num_comments, df.upvote_ratio)[0, 1], 3)"
   ]
  },
  {
   "cell_type": "code",
   "execution_count": 33,
   "id": "7febf094",
   "metadata": {
    "ExecuteTime": {
     "end_time": "2022-06-02T04:51:54.996717Z",
     "start_time": "2022-06-02T04:51:54.916206Z"
    }
   },
   "outputs": [
    {
     "data": {
      "image/png": "[encoded data removed]",
      "text/plain": [
       "<Figure size 720x720 with 1 Axes>"
      ]
     },
     "metadata": {
      "needs_background": "light"
     },
     "output_type": "display_data"
    }
   ],
   "source": [
    "fix, ax = plt.subplots(figsize=(10, 10))\n",
    "\n",
    "ax.scatter(df.num_comments, df.upvote_ratio);"
   ]
  },
  {
   "cell_type": "code",
   "execution_count": 34,
   "id": "42ae5956",
   "metadata": {
    "ExecuteTime": {
     "end_time": "2022-06-02T04:51:55.000990Z",
     "start_time": "2022-06-02T04:51:54.997869Z"
    }
   },
   "outputs": [],
   "source": [
    "df.drop(labels=['upvote_ratio'], axis=1, inplace=True)"
   ]
  },
  {
   "cell_type": "markdown",
   "id": "78f0ab0e",
   "metadata": {},
   "source": [
    "---\n",
    "---"
   ]
  },
  {
   "cell_type": "markdown",
   "id": "c4e413fc",
   "metadata": {},
   "source": [
    "# Natural Language Processing"
   ]
  },
  {
   "cell_type": "markdown",
   "id": "b97696ad",
   "metadata": {},
   "source": [
    "## NLP Text Cleaning"
   ]
  },
  {
   "cell_type": "markdown",
   "id": "65ffeab1",
   "metadata": {},
   "source": [
    "**Normalize All Text to Lowercase**"
   ]
  },
  {
   "cell_type": "code",
   "execution_count": null,
   "id": "6ba9215e",
   "metadata": {
    "ExecuteTime": {
     "end_time": "2022-06-02T00:32:56.304272Z",
     "start_time": "2022-06-02T00:32:56.298948Z"
    },
    "scrolled": false
   },
   "outputs": [],
   "source": [
    "# title\n",
    "# df.title = [string.lower() for string in df.title]\n",
    "# subreddit\n",
    "# df.subreddit = [string.lower() for string in df.subreddit]"
   ]
  },
  {
   "cell_type": "markdown",
   "id": "77e4db74",
   "metadata": {},
   "source": [
    "**Remove Emojis**\n",
    "- Removing Unicode Characters"
   ]
  },
  {
   "cell_type": "code",
   "execution_count": null,
   "id": "d2ba05bb",
   "metadata": {
    "ExecuteTime": {
     "end_time": "2022-06-02T00:32:56.307644Z",
     "start_time": "2022-06-02T00:32:56.305734Z"
    }
   },
   "outputs": [],
   "source": [
    "# import emoji\n",
    "\n",
    "# def give_emoji_free_text(self, text):\n",
    "#     allchars = [str for str in text]\n",
    "#     emoji_list = [c for c in allchars if c in emoji.UNICODE_EMOJI]\n",
    "#     clean_text = ' '.join([str for str in text.split() if not any(i in str for i in emoji_list)])\n",
    "\n",
    "#     return clean_text\n",
    "\n",
    "# text = give_emoji_free_text(df.iloc[17].title)"
   ]
  },
  {
   "cell_type": "markdown",
   "id": "f02ede25",
   "metadata": {},
   "source": [
    "**Removing Stop Words**"
   ]
  },
  {
   "cell_type": "markdown",
   "id": "eb67edfa",
   "metadata": {},
   "source": [
    "## Stemming with NLTK"
   ]
  },
  {
   "cell_type": "code",
   "execution_count": 75,
   "id": "5fec37cc",
   "metadata": {
    "ExecuteTime": {
     "end_time": "2022-06-02T05:14:12.957084Z",
     "start_time": "2022-06-02T05:14:12.233171Z"
    }
   },
   "outputs": [],
   "source": [
    "# stemmer = PorterStemmer()\n",
    "# df['stemmed_title'] = [' '.join([stemmer.stem(word) for word in sentence.split(' ')]) \n",
    "#                        for sentence in df.title]"
   ]
  },
  {
   "cell_type": "code",
   "execution_count": 76,
   "id": "486f0237",
   "metadata": {
    "ExecuteTime": {
     "end_time": "2022-06-02T05:14:12.962760Z",
     "start_time": "2022-06-02T05:14:12.958626Z"
    }
   },
   "outputs": [
    {
     "data": {
      "text/plain": [
       "0                                          cop don't help\n",
       "1       polic didn't immedi confront the gunman as tex...\n",
       "2                                      the thin blue line\n",
       "3       custom is upset that a mattress store won’t… h...\n",
       "4                           cop tri to join the movement.\n",
       "                              ...                        \n",
       "7038                                                   hi\n",
       "7039                                 \"crawlerfield\" by me\n",
       "7040                   whi do i continu to tortur myself?\n",
       "7041    kabinet zet dure traditi voort: de klm redden ...\n",
       "7042                  you just don’t know what you’r miss\n",
       "Name: stemmed_title, Length: 7043, dtype: object"
      ]
     },
     "execution_count": 76,
     "metadata": {},
     "output_type": "execute_result"
    }
   ],
   "source": [
    "# df.stemmed_title"
   ]
  },
  {
   "cell_type": "markdown",
   "id": "54c30276",
   "metadata": {},
   "source": [
    "## Unprocessed Model"
   ]
  },
  {
   "cell_type": "markdown",
   "id": "b94a25ba",
   "metadata": {},
   "source": [
    "### Train Test Split"
   ]
  },
  {
   "cell_type": "code",
   "execution_count": 101,
   "id": "7403bad6",
   "metadata": {
    "ExecuteTime": {
     "end_time": "2022-06-02T05:38:27.982168Z",
     "start_time": "2022-06-02T05:38:27.965908Z"
    }
   },
   "outputs": [
    {
     "name": "stdout",
     "output_type": "stream",
     "text": [
      "(5634,) (5634,)\n",
      "(1409,) (1409,)\n"
     ]
    }
   ],
   "source": [
    "X = df['title']\n",
    "y = df.target\n",
    "\n",
    "X_train, X_test, y_train, y_test = train_test_split(X, y, test_size=.2, random_state=73)\n",
    "\n",
    "print(X_train.shape, y_train.shape)\n",
    "print(X_test.shape, y_test.shape)"
   ]
  },
  {
   "cell_type": "markdown",
   "id": "e28dd12a",
   "metadata": {},
   "source": [
    "### TfidfVectorizer"
   ]
  },
  {
   "cell_type": "code",
   "execution_count": 102,
   "id": "efd287eb",
   "metadata": {
    "ExecuteTime": {
     "end_time": "2022-06-02T05:38:28.052306Z",
     "start_time": "2022-06-02T05:38:27.985297Z"
    }
   },
   "outputs": [
    {
     "data": {
      "text/plain": [
       "TfidfVectorizer(max_df=0.6, max_features=50, stop_words='english',\n",
       "                strip_accents='ascii')"
      ]
     },
     "execution_count": 102,
     "metadata": {},
     "output_type": "execute_result"
    }
   ],
   "source": [
    "tvec = TfidfVectorizer(stop_words = 'english',\n",
    "                       strip_accents = 'ascii',\n",
    "                       max_features = 50,\n",
    "                       max_df = .60,\n",
    "                       norm = 'l2'\n",
    "                      )\n",
    "tvec.fit(X_train)"
   ]
  },
  {
   "cell_type": "code",
   "execution_count": 103,
   "id": "92b16801",
   "metadata": {
    "ExecuteTime": {
     "end_time": "2022-06-02T05:38:28.106270Z",
     "start_time": "2022-06-02T05:38:28.053193Z"
    }
   },
   "outputs": [
    {
     "data": {
      "text/plain": [
       "matrix([[0., 0., 0., ..., 0., 0., 0.],\n",
       "        [0., 0., 0., ..., 0., 0., 0.],\n",
       "        [0., 0., 0., ..., 0., 0., 0.],\n",
       "        ...,\n",
       "        [0., 0., 0., ..., 0., 0., 0.],\n",
       "        [0., 0., 0., ..., 0., 0., 0.],\n",
       "        [0., 0., 0., ..., 0., 0., 0.]])"
      ]
     },
     "execution_count": 103,
     "metadata": {},
     "output_type": "execute_result"
    }
   ],
   "source": [
    "train_tvec = pd.DataFrame(tvec.transform(X_train).todense(),\n",
    "                          columns = tvec.get_feature_names()\n",
    "                         )\n",
    "train_tvec['target'] = y_train.values\n",
    "\n",
    "tvec.transform(X_test).todense()"
   ]
  },
  {
   "cell_type": "code",
   "execution_count": 104,
   "id": "c6708c17",
   "metadata": {
    "ExecuteTime": {
     "end_time": "2022-06-02T05:38:28.122262Z",
     "start_time": "2022-06-02T05:38:28.108151Z"
    },
    "collapsed": true
   },
   "outputs": [
    {
     "data": {
      "text/html": [
       "<div>\n",
       "<style scoped>\n",
       "    .dataframe tbody tr th:only-of-type {\n",
       "        vertical-align: middle;\n",
       "    }\n",
       "\n",
       "    .dataframe tbody tr th {\n",
       "        vertical-align: top;\n",
       "    }\n",
       "\n",
       "    .dataframe thead th {\n",
       "        text-align: right;\n",
       "    }\n",
       "</style>\n",
       "<table border=\"1\" class=\"dataframe\">\n",
       "  <thead>\n",
       "    <tr style=\"text-align: right;\">\n",
       "      <th></th>\n",
       "      <th>2022</th>\n",
       "      <th>art</th>\n",
       "      <th>best</th>\n",
       "      <th>cat</th>\n",
       "      <th>day</th>\n",
       "      <th>did</th>\n",
       "      <th>does</th>\n",
       "      <th>dog</th>\n",
       "      <th>don</th>\n",
       "      <th>finally</th>\n",
       "      <th>...</th>\n",
       "      <th>think</th>\n",
       "      <th>thought</th>\n",
       "      <th>time</th>\n",
       "      <th>today</th>\n",
       "      <th>want</th>\n",
       "      <th>way</th>\n",
       "      <th>world</th>\n",
       "      <th>year</th>\n",
       "      <th>years</th>\n",
       "      <th>target</th>\n",
       "    </tr>\n",
       "  </thead>\n",
       "  <tbody>\n",
       "    <tr>\n",
       "      <th>0</th>\n",
       "      <td>0.0</td>\n",
       "      <td>0.0</td>\n",
       "      <td>0.0</td>\n",
       "      <td>0.0</td>\n",
       "      <td>0.0</td>\n",
       "      <td>0.0</td>\n",
       "      <td>0.0</td>\n",
       "      <td>0.0</td>\n",
       "      <td>0.0</td>\n",
       "      <td>0.0</td>\n",
       "      <td>...</td>\n",
       "      <td>0.0</td>\n",
       "      <td>0.0</td>\n",
       "      <td>0.0</td>\n",
       "      <td>0.0</td>\n",
       "      <td>0.0</td>\n",
       "      <td>0.0</td>\n",
       "      <td>0.0</td>\n",
       "      <td>0.0</td>\n",
       "      <td>0.0</td>\n",
       "      <td>0</td>\n",
       "    </tr>\n",
       "    <tr>\n",
       "      <th>1</th>\n",
       "      <td>0.0</td>\n",
       "      <td>0.0</td>\n",
       "      <td>0.0</td>\n",
       "      <td>0.0</td>\n",
       "      <td>0.0</td>\n",
       "      <td>0.0</td>\n",
       "      <td>0.0</td>\n",
       "      <td>0.0</td>\n",
       "      <td>0.0</td>\n",
       "      <td>0.0</td>\n",
       "      <td>...</td>\n",
       "      <td>0.0</td>\n",
       "      <td>0.0</td>\n",
       "      <td>0.0</td>\n",
       "      <td>0.0</td>\n",
       "      <td>0.0</td>\n",
       "      <td>0.0</td>\n",
       "      <td>0.0</td>\n",
       "      <td>0.0</td>\n",
       "      <td>0.0</td>\n",
       "      <td>1</td>\n",
       "    </tr>\n",
       "    <tr>\n",
       "      <th>2</th>\n",
       "      <td>0.0</td>\n",
       "      <td>0.0</td>\n",
       "      <td>0.0</td>\n",
       "      <td>0.0</td>\n",
       "      <td>0.0</td>\n",
       "      <td>0.0</td>\n",
       "      <td>0.0</td>\n",
       "      <td>0.0</td>\n",
       "      <td>0.0</td>\n",
       "      <td>0.0</td>\n",
       "      <td>...</td>\n",
       "      <td>0.0</td>\n",
       "      <td>0.0</td>\n",
       "      <td>0.0</td>\n",
       "      <td>0.0</td>\n",
       "      <td>0.0</td>\n",
       "      <td>0.0</td>\n",
       "      <td>0.0</td>\n",
       "      <td>0.0</td>\n",
       "      <td>0.0</td>\n",
       "      <td>1</td>\n",
       "    </tr>\n",
       "    <tr>\n",
       "      <th>3</th>\n",
       "      <td>0.0</td>\n",
       "      <td>0.0</td>\n",
       "      <td>0.0</td>\n",
       "      <td>0.0</td>\n",
       "      <td>0.0</td>\n",
       "      <td>0.0</td>\n",
       "      <td>0.0</td>\n",
       "      <td>0.0</td>\n",
       "      <td>0.0</td>\n",
       "      <td>0.0</td>\n",
       "      <td>...</td>\n",
       "      <td>0.0</td>\n",
       "      <td>0.0</td>\n",
       "      <td>0.0</td>\n",
       "      <td>0.0</td>\n",
       "      <td>0.0</td>\n",
       "      <td>0.0</td>\n",
       "      <td>0.0</td>\n",
       "      <td>0.0</td>\n",
       "      <td>0.0</td>\n",
       "      <td>1</td>\n",
       "    </tr>\n",
       "    <tr>\n",
       "      <th>4</th>\n",
       "      <td>0.0</td>\n",
       "      <td>0.0</td>\n",
       "      <td>0.0</td>\n",
       "      <td>0.0</td>\n",
       "      <td>0.0</td>\n",
       "      <td>0.0</td>\n",
       "      <td>0.0</td>\n",
       "      <td>0.0</td>\n",
       "      <td>0.0</td>\n",
       "      <td>0.0</td>\n",
       "      <td>...</td>\n",
       "      <td>0.0</td>\n",
       "      <td>0.0</td>\n",
       "      <td>0.0</td>\n",
       "      <td>0.0</td>\n",
       "      <td>0.0</td>\n",
       "      <td>0.0</td>\n",
       "      <td>0.0</td>\n",
       "      <td>0.0</td>\n",
       "      <td>0.0</td>\n",
       "      <td>0</td>\n",
       "    </tr>\n",
       "  </tbody>\n",
       "</table>\n",
       "<p>5 rows × 51 columns</p>\n",
       "</div>"
      ],
      "text/plain": [
       "   2022  art  best  cat  day  did  does  dog  don  finally  ...  think  \\\n",
       "0   0.0  0.0   0.0  0.0  0.0  0.0   0.0  0.0  0.0      0.0  ...    0.0   \n",
       "1   0.0  0.0   0.0  0.0  0.0  0.0   0.0  0.0  0.0      0.0  ...    0.0   \n",
       "2   0.0  0.0   0.0  0.0  0.0  0.0   0.0  0.0  0.0      0.0  ...    0.0   \n",
       "3   0.0  0.0   0.0  0.0  0.0  0.0   0.0  0.0  0.0      0.0  ...    0.0   \n",
       "4   0.0  0.0   0.0  0.0  0.0  0.0   0.0  0.0  0.0      0.0  ...    0.0   \n",
       "\n",
       "   thought  time  today  want  way  world  year  years  target  \n",
       "0      0.0   0.0    0.0   0.0  0.0    0.0   0.0    0.0       0  \n",
       "1      0.0   0.0    0.0   0.0  0.0    0.0   0.0    0.0       1  \n",
       "2      0.0   0.0    0.0   0.0  0.0    0.0   0.0    0.0       1  \n",
       "3      0.0   0.0    0.0   0.0  0.0    0.0   0.0    0.0       1  \n",
       "4      0.0   0.0    0.0   0.0  0.0    0.0   0.0    0.0       0  \n",
       "\n",
       "[5 rows x 51 columns]"
      ]
     },
     "execution_count": 104,
     "metadata": {},
     "output_type": "execute_result"
    }
   ],
   "source": [
    "train_tvec.head()"
   ]
  },
  {
   "cell_type": "markdown",
   "id": "236de4b9",
   "metadata": {},
   "source": [
    "### KNN Model "
   ]
  },
  {
   "cell_type": "code",
   "execution_count": 105,
   "id": "fab971ea",
   "metadata": {
    "ExecuteTime": {
     "end_time": "2022-06-02T05:38:28.126643Z",
     "start_time": "2022-06-02T05:38:28.123154Z"
    }
   },
   "outputs": [
    {
     "data": {
      "text/plain": [
       "0    0.512424\n",
       "1    0.487576\n",
       "Name: target, dtype: float64"
      ]
     },
     "execution_count": 105,
     "metadata": {},
     "output_type": "execute_result"
    }
   ],
   "source": [
    "# baseline model. mean of target\n",
    "df.target.value_counts(normalize=True)"
   ]
  },
  {
   "cell_type": "code",
   "execution_count": 106,
   "id": "93d08f53",
   "metadata": {
    "ExecuteTime": {
     "end_time": "2022-06-02T05:38:28.480837Z",
     "start_time": "2022-06-02T05:38:28.127445Z"
    }
   },
   "outputs": [],
   "source": [
    "train_scores = cross_val_score(KNeighborsClassifier(n_jobs=-1, \n",
    "                                                    n_neighbors=9\n",
    "                                                   ), \n",
    "                               train_tvec.drop('target', axis=1), \n",
    "                               train_tvec.target \n",
    "                              )"
   ]
  },
  {
   "cell_type": "code",
   "execution_count": 108,
   "id": "76c50a02",
   "metadata": {
    "ExecuteTime": {
     "end_time": "2022-06-02T05:38:28.488415Z",
     "start_time": "2022-06-02T05:38:28.485393Z"
    }
   },
   "outputs": [
    {
     "name": "stdout",
     "output_type": "stream",
     "text": [
      "Cross val scores: [0.53771074 0.53238687 0.52440106 0.49511979 0.48667851]\n",
      "Mean: 0.515\n",
      "Stdev: 0.041 \n",
      "\n"
     ]
    }
   ],
   "source": [
    "print('Cross val scores:', train_scores)\n",
    "print('Mean:', round(train_scores.mean(), 3))\n",
    "print('Stdev:', round(2 * train_scores.std(), 3), '\\n')"
   ]
  },
  {
   "cell_type": "code",
   "execution_count": 107,
   "id": "a729d8cf",
   "metadata": {
    "ExecuteTime": {
     "end_time": "2022-06-02T05:38:28.484199Z",
     "start_time": "2022-06-02T05:38:28.482283Z"
    }
   },
   "outputs": [],
   "source": [
    "# test_scores = cross_val_score(KNeighborsClassifier(n_jobs=1, n_neighbors=9), \n",
    "#                               test_tvec.drop('target', axis=1), \n",
    "#                               test_tvec.target \n",
    "#                              )"
   ]
  },
  {
   "cell_type": "code",
   "execution_count": 109,
   "id": "844e19c1",
   "metadata": {
    "ExecuteTime": {
     "end_time": "2022-06-02T05:38:28.491556Z",
     "start_time": "2022-06-02T05:38:28.489799Z"
    }
   },
   "outputs": [],
   "source": [
    "# print('Cross val scores:', test_scores)\n",
    "# print('Mean:', round(test_scores.mean(), 3))\n",
    "# print('Stdev:', round(2 * test_scores.std(), 3), '\\n')"
   ]
  },
  {
   "cell_type": "markdown",
   "id": "6bcdf174",
   "metadata": {},
   "source": [
    "## Stemming with NLTK"
   ]
  },
  {
   "cell_type": "code",
   "execution_count": 110,
   "id": "312cb305",
   "metadata": {
    "ExecuteTime": {
     "end_time": "2022-06-02T05:38:29.206890Z",
     "start_time": "2022-06-02T05:38:28.495178Z"
    }
   },
   "outputs": [],
   "source": [
    "stemmer = PorterStemmer()\n",
    "df['stemmed_title'] = [' '.join([stemmer.stem(word) for word in sentence.split(' ')]) \n",
    "                       for sentence in df.title]"
   ]
  },
  {
   "cell_type": "code",
   "execution_count": 111,
   "id": "d55c76e4",
   "metadata": {
    "ExecuteTime": {
     "end_time": "2022-06-02T05:38:29.211129Z",
     "start_time": "2022-06-02T05:38:29.207923Z"
    }
   },
   "outputs": [
    {
     "data": {
      "text/plain": [
       "0                                       cop don't help\n",
       "1    polic didn't immedi confront the gunman as tex...\n",
       "2                                   the thin blue line\n",
       "3    custom is upset that a mattress store won’t… h...\n",
       "4                        cop tri to join the movement.\n",
       "Name: stemmed_title, dtype: object"
      ]
     },
     "execution_count": 111,
     "metadata": {},
     "output_type": "execute_result"
    }
   ],
   "source": [
    "df.stemmed_title.head()"
   ]
  },
  {
   "cell_type": "markdown",
   "id": "5dce4571",
   "metadata": {},
   "source": [
    "## Stemmed Model"
   ]
  },
  {
   "cell_type": "markdown",
   "id": "63c1d9d0",
   "metadata": {},
   "source": [
    "### Train Test Split"
   ]
  },
  {
   "cell_type": "code",
   "execution_count": 157,
   "id": "4bc96976",
   "metadata": {
    "ExecuteTime": {
     "end_time": "2022-06-02T06:42:37.782273Z",
     "start_time": "2022-06-02T06:42:37.759952Z"
    }
   },
   "outputs": [
    {
     "name": "stdout",
     "output_type": "stream",
     "text": [
      "(5634,) (5634,)\n",
      "(1409,) (1409,)\n"
     ]
    }
   ],
   "source": [
    "X = df['stemmed_title']\n",
    "y = df.target\n",
    "\n",
    "X_train, X_test, y_train, y_test = train_test_split(X, y, test_size=.2, random_state=73)\n",
    "\n",
    "print(X_train.shape, y_train.shape)\n",
    "print(X_test.shape, y_test.shape)"
   ]
  },
  {
   "cell_type": "markdown",
   "id": "a74fe1d8",
   "metadata": {},
   "source": [
    "### Stemmed TfidfVectorizer"
   ]
  },
  {
   "cell_type": "code",
   "execution_count": 158,
   "id": "15c5f55e",
   "metadata": {
    "ExecuteTime": {
     "end_time": "2022-06-02T06:42:37.850785Z",
     "start_time": "2022-06-02T06:42:37.784813Z"
    }
   },
   "outputs": [
    {
     "data": {
      "text/plain": [
       "TfidfVectorizer(max_df=0.6, max_features=50, stop_words='english',\n",
       "                strip_accents='ascii')"
      ]
     },
     "execution_count": 158,
     "metadata": {},
     "output_type": "execute_result"
    }
   ],
   "source": [
    "tvec = TfidfVectorizer(stop_words = 'english',\n",
    "                       strip_accents = 'ascii',\n",
    "                       max_features = 50,\n",
    "                       max_df = .60, # penalizign tokens that are way too freq\n",
    "                       norm = 'l2' # normalizing using ridge\n",
    "                      )\n",
    "tvec.fit(X_train)"
   ]
  },
  {
   "cell_type": "code",
   "execution_count": 159,
   "id": "12a39b62",
   "metadata": {
    "ExecuteTime": {
     "end_time": "2022-06-02T06:42:37.904593Z",
     "start_time": "2022-06-02T06:42:37.852317Z"
    }
   },
   "outputs": [
    {
     "data": {
      "text/html": [
       "<div>\n",
       "<style scoped>\n",
       "    .dataframe tbody tr th:only-of-type {\n",
       "        vertical-align: middle;\n",
       "    }\n",
       "\n",
       "    .dataframe tbody tr th {\n",
       "        vertical-align: top;\n",
       "    }\n",
       "\n",
       "    .dataframe thead th {\n",
       "        text-align: right;\n",
       "    }\n",
       "</style>\n",
       "<table border=\"1\" class=\"dataframe\">\n",
       "  <thead>\n",
       "    <tr style=\"text-align: right;\">\n",
       "      <th></th>\n",
       "      <th>2022</th>\n",
       "      <th>art</th>\n",
       "      <th>best</th>\n",
       "      <th>cat</th>\n",
       "      <th>come</th>\n",
       "      <th>day</th>\n",
       "      <th>did</th>\n",
       "      <th>don</th>\n",
       "      <th>final</th>\n",
       "      <th>friend</th>\n",
       "      <th>...</th>\n",
       "      <th>tri</th>\n",
       "      <th>use</th>\n",
       "      <th>wa</th>\n",
       "      <th>want</th>\n",
       "      <th>way</th>\n",
       "      <th>whi</th>\n",
       "      <th>work</th>\n",
       "      <th>world</th>\n",
       "      <th>year</th>\n",
       "      <th>target</th>\n",
       "    </tr>\n",
       "  </thead>\n",
       "  <tbody>\n",
       "    <tr>\n",
       "      <th>0</th>\n",
       "      <td>0.0</td>\n",
       "      <td>0.0</td>\n",
       "      <td>0.0</td>\n",
       "      <td>0.0</td>\n",
       "      <td>0.0</td>\n",
       "      <td>0.0</td>\n",
       "      <td>0.0</td>\n",
       "      <td>0.0</td>\n",
       "      <td>0.0</td>\n",
       "      <td>0.0</td>\n",
       "      <td>...</td>\n",
       "      <td>0.0</td>\n",
       "      <td>0.0</td>\n",
       "      <td>0.0</td>\n",
       "      <td>0.0</td>\n",
       "      <td>0.0</td>\n",
       "      <td>0.0</td>\n",
       "      <td>0.0</td>\n",
       "      <td>0.0</td>\n",
       "      <td>0.0</td>\n",
       "      <td>0</td>\n",
       "    </tr>\n",
       "    <tr>\n",
       "      <th>1</th>\n",
       "      <td>0.0</td>\n",
       "      <td>0.0</td>\n",
       "      <td>0.0</td>\n",
       "      <td>0.0</td>\n",
       "      <td>0.0</td>\n",
       "      <td>0.0</td>\n",
       "      <td>0.0</td>\n",
       "      <td>0.0</td>\n",
       "      <td>0.0</td>\n",
       "      <td>0.0</td>\n",
       "      <td>...</td>\n",
       "      <td>0.0</td>\n",
       "      <td>0.0</td>\n",
       "      <td>0.0</td>\n",
       "      <td>0.0</td>\n",
       "      <td>0.0</td>\n",
       "      <td>0.0</td>\n",
       "      <td>0.0</td>\n",
       "      <td>0.0</td>\n",
       "      <td>0.0</td>\n",
       "      <td>1</td>\n",
       "    </tr>\n",
       "    <tr>\n",
       "      <th>2</th>\n",
       "      <td>0.0</td>\n",
       "      <td>0.0</td>\n",
       "      <td>0.0</td>\n",
       "      <td>0.0</td>\n",
       "      <td>0.0</td>\n",
       "      <td>0.0</td>\n",
       "      <td>0.0</td>\n",
       "      <td>0.0</td>\n",
       "      <td>0.0</td>\n",
       "      <td>0.0</td>\n",
       "      <td>...</td>\n",
       "      <td>0.0</td>\n",
       "      <td>0.0</td>\n",
       "      <td>0.0</td>\n",
       "      <td>0.0</td>\n",
       "      <td>0.0</td>\n",
       "      <td>0.0</td>\n",
       "      <td>0.0</td>\n",
       "      <td>0.0</td>\n",
       "      <td>0.0</td>\n",
       "      <td>1</td>\n",
       "    </tr>\n",
       "    <tr>\n",
       "      <th>3</th>\n",
       "      <td>0.0</td>\n",
       "      <td>0.0</td>\n",
       "      <td>0.0</td>\n",
       "      <td>0.0</td>\n",
       "      <td>0.0</td>\n",
       "      <td>0.0</td>\n",
       "      <td>0.0</td>\n",
       "      <td>0.0</td>\n",
       "      <td>0.0</td>\n",
       "      <td>0.0</td>\n",
       "      <td>...</td>\n",
       "      <td>0.0</td>\n",
       "      <td>0.0</td>\n",
       "      <td>0.0</td>\n",
       "      <td>0.0</td>\n",
       "      <td>0.0</td>\n",
       "      <td>0.0</td>\n",
       "      <td>0.0</td>\n",
       "      <td>0.0</td>\n",
       "      <td>0.0</td>\n",
       "      <td>1</td>\n",
       "    </tr>\n",
       "    <tr>\n",
       "      <th>4</th>\n",
       "      <td>0.0</td>\n",
       "      <td>0.0</td>\n",
       "      <td>0.0</td>\n",
       "      <td>0.0</td>\n",
       "      <td>0.0</td>\n",
       "      <td>0.0</td>\n",
       "      <td>0.0</td>\n",
       "      <td>0.0</td>\n",
       "      <td>0.0</td>\n",
       "      <td>0.0</td>\n",
       "      <td>...</td>\n",
       "      <td>0.0</td>\n",
       "      <td>0.0</td>\n",
       "      <td>0.0</td>\n",
       "      <td>0.0</td>\n",
       "      <td>0.0</td>\n",
       "      <td>0.0</td>\n",
       "      <td>0.0</td>\n",
       "      <td>0.0</td>\n",
       "      <td>0.0</td>\n",
       "      <td>0</td>\n",
       "    </tr>\n",
       "  </tbody>\n",
       "</table>\n",
       "<p>5 rows × 51 columns</p>\n",
       "</div>"
      ],
      "text/plain": [
       "   2022  art  best  cat  come  day  did  don  final  friend  ...  tri  use  \\\n",
       "0   0.0  0.0   0.0  0.0   0.0  0.0  0.0  0.0    0.0     0.0  ...  0.0  0.0   \n",
       "1   0.0  0.0   0.0  0.0   0.0  0.0  0.0  0.0    0.0     0.0  ...  0.0  0.0   \n",
       "2   0.0  0.0   0.0  0.0   0.0  0.0  0.0  0.0    0.0     0.0  ...  0.0  0.0   \n",
       "3   0.0  0.0   0.0  0.0   0.0  0.0  0.0  0.0    0.0     0.0  ...  0.0  0.0   \n",
       "4   0.0  0.0   0.0  0.0   0.0  0.0  0.0  0.0    0.0     0.0  ...  0.0  0.0   \n",
       "\n",
       "    wa  want  way  whi  work  world  year  target  \n",
       "0  0.0   0.0  0.0  0.0   0.0    0.0   0.0       0  \n",
       "1  0.0   0.0  0.0  0.0   0.0    0.0   0.0       1  \n",
       "2  0.0   0.0  0.0  0.0   0.0    0.0   0.0       1  \n",
       "3  0.0   0.0  0.0  0.0   0.0    0.0   0.0       1  \n",
       "4  0.0   0.0  0.0  0.0   0.0    0.0   0.0       0  \n",
       "\n",
       "[5 rows x 51 columns]"
      ]
     },
     "execution_count": 159,
     "metadata": {},
     "output_type": "execute_result"
    }
   ],
   "source": [
    "train_tvec = pd.DataFrame(tvec.transform(X_train).todense(),\n",
    "                          columns = tvec.get_feature_names()\n",
    "                         )\n",
    "train_tvec['target'] = y_train.values\n",
    "train_tvec.head()"
   ]
  },
  {
   "cell_type": "code",
   "execution_count": 160,
   "id": "faa59309",
   "metadata": {
    "ExecuteTime": {
     "end_time": "2022-06-02T06:42:37.930406Z",
     "start_time": "2022-06-02T06:42:37.906424Z"
    }
   },
   "outputs": [
    {
     "data": {
      "text/html": [
       "<div>\n",
       "<style scoped>\n",
       "    .dataframe tbody tr th:only-of-type {\n",
       "        vertical-align: middle;\n",
       "    }\n",
       "\n",
       "    .dataframe tbody tr th {\n",
       "        vertical-align: top;\n",
       "    }\n",
       "\n",
       "    .dataframe thead th {\n",
       "        text-align: right;\n",
       "    }\n",
       "</style>\n",
       "<table border=\"1\" class=\"dataframe\">\n",
       "  <thead>\n",
       "    <tr style=\"text-align: right;\">\n",
       "      <th></th>\n",
       "      <th>2022</th>\n",
       "      <th>art</th>\n",
       "      <th>best</th>\n",
       "      <th>cat</th>\n",
       "      <th>come</th>\n",
       "      <th>day</th>\n",
       "      <th>did</th>\n",
       "      <th>don</th>\n",
       "      <th>final</th>\n",
       "      <th>friend</th>\n",
       "      <th>...</th>\n",
       "      <th>tri</th>\n",
       "      <th>use</th>\n",
       "      <th>wa</th>\n",
       "      <th>want</th>\n",
       "      <th>way</th>\n",
       "      <th>whi</th>\n",
       "      <th>work</th>\n",
       "      <th>world</th>\n",
       "      <th>year</th>\n",
       "      <th>target</th>\n",
       "    </tr>\n",
       "  </thead>\n",
       "  <tbody>\n",
       "    <tr>\n",
       "      <th>0</th>\n",
       "      <td>0.000000</td>\n",
       "      <td>0.0</td>\n",
       "      <td>0.0</td>\n",
       "      <td>0.0</td>\n",
       "      <td>0.0</td>\n",
       "      <td>0.0</td>\n",
       "      <td>0.000000</td>\n",
       "      <td>0.0</td>\n",
       "      <td>0.0</td>\n",
       "      <td>0.0</td>\n",
       "      <td>...</td>\n",
       "      <td>0.0</td>\n",
       "      <td>0.0</td>\n",
       "      <td>0.0</td>\n",
       "      <td>0.0</td>\n",
       "      <td>0.0</td>\n",
       "      <td>0.0</td>\n",
       "      <td>0.0</td>\n",
       "      <td>0.0</td>\n",
       "      <td>0.0</td>\n",
       "      <td>1</td>\n",
       "    </tr>\n",
       "    <tr>\n",
       "      <th>1</th>\n",
       "      <td>0.000000</td>\n",
       "      <td>0.0</td>\n",
       "      <td>0.0</td>\n",
       "      <td>0.0</td>\n",
       "      <td>0.0</td>\n",
       "      <td>0.0</td>\n",
       "      <td>0.000000</td>\n",
       "      <td>0.0</td>\n",
       "      <td>0.0</td>\n",
       "      <td>0.0</td>\n",
       "      <td>...</td>\n",
       "      <td>0.0</td>\n",
       "      <td>0.0</td>\n",
       "      <td>0.0</td>\n",
       "      <td>0.0</td>\n",
       "      <td>0.0</td>\n",
       "      <td>0.0</td>\n",
       "      <td>0.0</td>\n",
       "      <td>0.0</td>\n",
       "      <td>0.0</td>\n",
       "      <td>1</td>\n",
       "    </tr>\n",
       "    <tr>\n",
       "      <th>2</th>\n",
       "      <td>0.000000</td>\n",
       "      <td>0.0</td>\n",
       "      <td>0.0</td>\n",
       "      <td>0.0</td>\n",
       "      <td>0.0</td>\n",
       "      <td>0.0</td>\n",
       "      <td>0.000000</td>\n",
       "      <td>0.0</td>\n",
       "      <td>0.0</td>\n",
       "      <td>0.0</td>\n",
       "      <td>...</td>\n",
       "      <td>0.0</td>\n",
       "      <td>0.0</td>\n",
       "      <td>0.0</td>\n",
       "      <td>0.0</td>\n",
       "      <td>0.0</td>\n",
       "      <td>0.0</td>\n",
       "      <td>0.0</td>\n",
       "      <td>0.0</td>\n",
       "      <td>0.0</td>\n",
       "      <td>1</td>\n",
       "    </tr>\n",
       "    <tr>\n",
       "      <th>3</th>\n",
       "      <td>0.000000</td>\n",
       "      <td>0.0</td>\n",
       "      <td>0.0</td>\n",
       "      <td>0.0</td>\n",
       "      <td>0.0</td>\n",
       "      <td>0.0</td>\n",
       "      <td>0.000000</td>\n",
       "      <td>0.0</td>\n",
       "      <td>0.0</td>\n",
       "      <td>0.0</td>\n",
       "      <td>...</td>\n",
       "      <td>0.0</td>\n",
       "      <td>0.0</td>\n",
       "      <td>0.0</td>\n",
       "      <td>0.0</td>\n",
       "      <td>0.0</td>\n",
       "      <td>0.0</td>\n",
       "      <td>0.0</td>\n",
       "      <td>0.0</td>\n",
       "      <td>0.0</td>\n",
       "      <td>1</td>\n",
       "    </tr>\n",
       "    <tr>\n",
       "      <th>4</th>\n",
       "      <td>0.701945</td>\n",
       "      <td>0.0</td>\n",
       "      <td>0.0</td>\n",
       "      <td>0.0</td>\n",
       "      <td>0.0</td>\n",
       "      <td>0.0</td>\n",
       "      <td>0.712231</td>\n",
       "      <td>0.0</td>\n",
       "      <td>0.0</td>\n",
       "      <td>0.0</td>\n",
       "      <td>...</td>\n",
       "      <td>0.0</td>\n",
       "      <td>0.0</td>\n",
       "      <td>0.0</td>\n",
       "      <td>0.0</td>\n",
       "      <td>0.0</td>\n",
       "      <td>0.0</td>\n",
       "      <td>0.0</td>\n",
       "      <td>0.0</td>\n",
       "      <td>0.0</td>\n",
       "      <td>0</td>\n",
       "    </tr>\n",
       "  </tbody>\n",
       "</table>\n",
       "<p>5 rows × 51 columns</p>\n",
       "</div>"
      ],
      "text/plain": [
       "       2022  art  best  cat  come  day       did  don  final  friend  ...  \\\n",
       "0  0.000000  0.0   0.0  0.0   0.0  0.0  0.000000  0.0    0.0     0.0  ...   \n",
       "1  0.000000  0.0   0.0  0.0   0.0  0.0  0.000000  0.0    0.0     0.0  ...   \n",
       "2  0.000000  0.0   0.0  0.0   0.0  0.0  0.000000  0.0    0.0     0.0  ...   \n",
       "3  0.000000  0.0   0.0  0.0   0.0  0.0  0.000000  0.0    0.0     0.0  ...   \n",
       "4  0.701945  0.0   0.0  0.0   0.0  0.0  0.712231  0.0    0.0     0.0  ...   \n",
       "\n",
       "   tri  use   wa  want  way  whi  work  world  year  target  \n",
       "0  0.0  0.0  0.0   0.0  0.0  0.0   0.0    0.0   0.0       1  \n",
       "1  0.0  0.0  0.0   0.0  0.0  0.0   0.0    0.0   0.0       1  \n",
       "2  0.0  0.0  0.0   0.0  0.0  0.0   0.0    0.0   0.0       1  \n",
       "3  0.0  0.0  0.0   0.0  0.0  0.0   0.0    0.0   0.0       1  \n",
       "4  0.0  0.0  0.0   0.0  0.0  0.0   0.0    0.0   0.0       0  \n",
       "\n",
       "[5 rows x 51 columns]"
      ]
     },
     "execution_count": 160,
     "metadata": {},
     "output_type": "execute_result"
    }
   ],
   "source": [
    "test_tvec = pd.DataFrame(tvec.transform(X_test).todense(),\n",
    "                          columns = tvec.get_feature_names()\n",
    "                         )\n",
    "test_tvec['target'] = y_test.values\n",
    "test_tvec.head()"
   ]
  },
  {
   "cell_type": "code",
   "execution_count": 161,
   "id": "3e3e2cc1",
   "metadata": {
    "ExecuteTime": {
     "end_time": "2022-06-02T06:42:37.934464Z",
     "start_time": "2022-06-02T06:42:37.931410Z"
    }
   },
   "outputs": [
    {
     "data": {
      "text/plain": [
       "Index([], dtype='object')"
      ]
     },
     "execution_count": 161,
     "metadata": {},
     "output_type": "execute_result"
    }
   ],
   "source": [
    "train_tvec.columns.difference(test_tvec.columns)"
   ]
  },
  {
   "cell_type": "markdown",
   "id": "381cf1b5",
   "metadata": {},
   "source": [
    "### KNN Stemmed Model "
   ]
  },
  {
   "cell_type": "code",
   "execution_count": 162,
   "id": "3650e062",
   "metadata": {
    "ExecuteTime": {
     "end_time": "2022-06-02T06:42:37.938937Z",
     "start_time": "2022-06-02T06:42:37.935429Z"
    }
   },
   "outputs": [
    {
     "data": {
      "text/plain": [
       "0    0.512424\n",
       "1    0.487576\n",
       "Name: target, dtype: float64"
      ]
     },
     "execution_count": 162,
     "metadata": {},
     "output_type": "execute_result"
    }
   ],
   "source": [
    "# baseline model. mean of target\n",
    "df.target.value_counts(normalize=True)"
   ]
  },
  {
   "cell_type": "code",
   "execution_count": 163,
   "id": "fa76d737",
   "metadata": {
    "ExecuteTime": {
     "end_time": "2022-06-02T06:42:38.290616Z",
     "start_time": "2022-06-02T06:42:37.939887Z"
    }
   },
   "outputs": [],
   "source": [
    "knn = KNeighborsClassifier(n_neighbors=9, n_jobs=-1)\n",
    "\n",
    "train_scores = cross_val_score(knn, \n",
    "                               train_tvec.drop('target', axis=1), \n",
    "                               train_tvec.target \n",
    "                              )"
   ]
  },
  {
   "cell_type": "code",
   "execution_count": 164,
   "id": "4571e328",
   "metadata": {
    "ExecuteTime": {
     "end_time": "2022-06-02T06:42:38.294664Z",
     "start_time": "2022-06-02T06:42:38.291894Z"
    }
   },
   "outputs": [
    {
     "name": "stdout",
     "output_type": "stream",
     "text": [
      "Cross val scores: [0.54835847 0.53593611 0.52351375 0.50133097 0.54884547]\n",
      "Mean: 0.532\n",
      "Stdev: 0.036 \n",
      "\n"
     ]
    }
   ],
   "source": [
    "print('Cross val scores:', train_scores)\n",
    "print('Mean:', round(train_scores.mean(), 3))\n",
    "print('Stdev:', round(2 * train_scores.std(), 3), '\\n')"
   ]
  },
  {
   "cell_type": "code",
   "execution_count": 168,
   "id": "586bc377",
   "metadata": {
    "ExecuteTime": {
     "end_time": "2022-06-02T06:46:30.317361Z",
     "start_time": "2022-06-02T06:46:30.187672Z"
    }
   },
   "outputs": [
    {
     "data": {
      "text/plain": [
       "array([[595, 161],\n",
       "       [465, 188]])"
      ]
     },
     "execution_count": 168,
     "metadata": {},
     "output_type": "execute_result"
    }
   ],
   "source": [
    "knn = KNeighborsClassifier(n_neighbors=9, n_jobs=-1)\n",
    "knn.fit(train_tvec.drop('target', axis=1), y_train)\n",
    "\n",
    "predicted = knn.predict(test_tvec.drop('target', axis=1))\n",
    "confusion_matrix(y_test, predicted)"
   ]
  },
  {
   "cell_type": "code",
   "execution_count": 193,
   "id": "962b6323",
   "metadata": {
    "ExecuteTime": {
     "end_time": "2022-06-02T20:29:02.204136Z",
     "start_time": "2022-06-02T20:29:02.070517Z"
    }
   },
   "outputs": [
    {
     "data": {
      "text/html": [
       "<div>\n",
       "<style scoped>\n",
       "    .dataframe tbody tr th:only-of-type {\n",
       "        vertical-align: middle;\n",
       "    }\n",
       "\n",
       "    .dataframe tbody tr th {\n",
       "        vertical-align: top;\n",
       "    }\n",
       "\n",
       "    .dataframe thead th {\n",
       "        text-align: right;\n",
       "    }\n",
       "</style>\n",
       "<table border=\"1\" class=\"dataframe\">\n",
       "  <thead>\n",
       "    <tr style=\"text-align: right;\">\n",
       "      <th></th>\n",
       "      <th>pred_0</th>\n",
       "      <th>pred_1</th>\n",
       "    </tr>\n",
       "  </thead>\n",
       "  <tbody>\n",
       "    <tr>\n",
       "      <th>true_0</th>\n",
       "      <td>595</td>\n",
       "      <td>161</td>\n",
       "    </tr>\n",
       "    <tr>\n",
       "      <th>true_1</th>\n",
       "      <td>465</td>\n",
       "      <td>188</td>\n",
       "    </tr>\n",
       "  </tbody>\n",
       "</table>\n",
       "</div>"
      ],
      "text/plain": [
       "        pred_0  pred_1\n",
       "true_0     595     161\n",
       "true_1     465     188"
      ]
     },
     "execution_count": 193,
     "metadata": {},
     "output_type": "execute_result"
    }
   ],
   "source": [
    "y_pred = knn.predict(test_tvec.drop('target', axis=1))\n",
    "\n",
    "conmat = np.array(confusion_matrix(y_test, y_pred, labels=[0, 1]))\n",
    "\n",
    "confusion = pd.DataFrame(conmat, index=['true_0', 'true_1'], columns=['pred_0', 'pred_1'])\n",
    "confusion"
   ]
  },
  {
   "cell_type": "code",
   "execution_count": 194,
   "id": "10d0d00b",
   "metadata": {
    "ExecuteTime": {
     "end_time": "2022-06-02T20:30:22.088821Z",
     "start_time": "2022-06-02T20:30:22.076801Z"
    }
   },
   "outputs": [],
   "source": [
    "from sklearn.metrics import ConfusionMatrixDisplay"
   ]
  },
  {
   "cell_type": "code",
   "execution_count": 199,
   "id": "71369677",
   "metadata": {
    "ExecuteTime": {
     "end_time": "2022-06-02T20:32:44.935569Z",
     "start_time": "2022-06-02T20:32:44.823220Z"
    }
   },
   "outputs": [
    {
     "data": {
      "image/png": "[encoded data removed]",
      "text/plain": [
       "<Figure size 432x288 with 2 Axes>"
      ]
     },
     "metadata": {
      "needs_background": "light"
     },
     "output_type": "display_data"
    }
   ],
   "source": [
    "matrix_display = ConfusionMatrixDisplay(confusion_matrix=conmat, \n",
    "                                        display_labels=knn.classes_)\n",
    "matrix_display.plot();"
   ]
  },
  {
   "cell_type": "code",
   "execution_count": 209,
   "id": "4cbcb0b5",
   "metadata": {
    "ExecuteTime": {
     "end_time": "2022-06-02T20:37:51.115277Z",
     "start_time": "2022-06-02T20:37:51.094146Z"
    }
   },
   "outputs": [
    {
     "name": "stdout",
     "output_type": "stream",
     "text": [
      "              precision    recall  f1-score   support\n",
      "\n",
      "     not_hot       0.56      0.79      0.66       756\n",
      "         hot       0.54      0.29      0.38       653\n",
      "\n",
      "    accuracy                           0.56      1409\n",
      "   macro avg       0.55      0.54      0.52      1409\n",
      "weighted avg       0.55      0.56      0.53      1409\n",
      "\n"
     ]
    }
   ],
   "source": [
    "print(classification_report(y_test, y_pred, target_names=['not_hot', 'hot']))"
   ]
  },
  {
   "cell_type": "code",
   "execution_count": 175,
   "id": "66f9d582",
   "metadata": {
    "ExecuteTime": {
     "end_time": "2022-06-02T06:47:14.647194Z",
     "start_time": "2022-06-02T06:47:14.519039Z"
    },
    "scrolled": false
   },
   "outputs": [
    {
     "data": {
      "text/plain": [
       "0.5557132718239887"
      ]
     },
     "execution_count": 175,
     "metadata": {},
     "output_type": "execute_result"
    }
   ],
   "source": [
    "# knn.score(test_tvec.drop('target', axis=1), y_test)"
   ]
  },
  {
   "cell_type": "markdown",
   "id": "00d403bb",
   "metadata": {},
   "source": [
    "## Logistic Regression Model"
   ]
  },
  {
   "cell_type": "code",
   "execution_count": null,
   "id": "6beb6b6c",
   "metadata": {},
   "outputs": [],
   "source": []
  },
  {
   "cell_type": "markdown",
   "id": "ad550b98",
   "metadata": {},
   "source": [
    "# Conclusion"
   ]
  },
  {
   "cell_type": "code",
   "execution_count": null,
   "id": "41e99055",
   "metadata": {},
   "outputs": [],
   "source": []
  },
  {
   "cell_type": "code",
   "execution_count": null,
   "id": "98a84ef7",
   "metadata": {},
   "outputs": [],
   "source": []
  },
  {
   "cell_type": "code",
   "execution_count": null,
   "id": "15a3c04a",
   "metadata": {},
   "outputs": [],
   "source": []
  },
  {
   "cell_type": "code",
   "execution_count": null,
   "id": "6e3bc2a5",
   "metadata": {},
   "outputs": [],
   "source": []
  },
  {
   "cell_type": "markdown",
   "id": "eb9f6e55",
   "metadata": {},
   "source": [
    "# Recommendation"
   ]
  },
  {
   "cell_type": "code",
   "execution_count": null,
   "id": "b72f385d",
   "metadata": {},
   "outputs": [],
   "source": []
  },
  {
   "cell_type": "code",
   "execution_count": null,
   "id": "b8947529",
   "metadata": {},
   "outputs": [],
   "source": []
  },
  {
   "cell_type": "code",
   "execution_count": null,
   "id": "5f716ea6",
   "metadata": {},
   "outputs": [],
   "source": []
  },
  {
   "cell_type": "markdown",
   "id": "1e8a6a64",
   "metadata": {},
   "source": [
    "### Problem Statement:\n",
    "What characteristics of a post on Reddit are most predictive of the overall interaction on a thread (as measured by number of comments)?\n",
    "\n",
    "You will build a classification model that, using Natural Language Processing and any other relevant features, predicts whether or not a given Reddit post will have above or below the median number of comments."
   ]
  },
  {
   "cell_type": "markdown",
   "id": "c4e700c5",
   "metadata": {},
   "source": [
    "### Requirements\n",
    "\n",
    "Create and compare two models. One of these must be a random forest, however the other can be a classifier of your choosing: logistic regression, KNN, SVM, etc.\n",
    "\n",
    "A Jupyter Notebook with your analysis for a peer audience of data scientists\n",
    "\n",
    "An executive summary of the results you found\n",
    "\n",
    "A 4 minute presentation outlining your process and findings for a semi-technical audience. The reason we say 'semi-technical' is that FiveThirtyEight wants to see how you plan to explain your findings in your article, and their audience is likely readers who are familiar with and interested in data/statistics, but are not experts. This means that if you'd like to talk about your model works you can, but explain what exactly your model does at a high-level."
   ]
  },
  {
   "cell_type": "code",
   "execution_count": null,
   "id": "950dead2",
   "metadata": {},
   "outputs": [],
   "source": []
  }
 ],
 "metadata": {
  "kernelspec": {
   "display_name": "Python 3 (ipykernel)",
   "language": "python",
   "name": "python3"
  },
  "language_info": {
   "codemirror_mode": {
    "name": "ipython",
    "version": 3
   },
   "file_extension": ".py",
   "mimetype": "text/x-python",
   "name": "python",
   "nbconvert_exporter": "python",
   "pygments_lexer": "ipython3",
   "version": "3.9.7"
  }
 },
 "nbformat": 4,
 "nbformat_minor": 5
}
